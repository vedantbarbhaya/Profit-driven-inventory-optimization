{
 "cells": [
  {
   "cell_type": "markdown",
   "metadata": {},
   "source": [
    "# SETTINGS\n",
    "\n",
    "The notebook calculates simple blending ensembles of predictions coming from different variants of the LightGBM models implemented in `notebook_03_modeling.ipynb` over the course of working on the project. \n",
    "\n",
    "The ensembled predictions are exported as `sub_[name].csv`."
   ]
  },
  {
   "cell_type": "code",
   "execution_count": 1,
   "metadata": {},
   "outputs": [],
   "source": [
    "##### LIBRARIES\n",
    "\n",
    "import numpy as np\n",
    "import pandas as pd\n",
    "\n",
    "import matplotlib.pyplot as plt\n",
    "import seaborn as sns\n",
    "\n",
    "import scipy.stats\n",
    "from scipy.stats import gmean\n",
    "\n",
    "import os\n",
    "import time\n",
    "import datetime\n",
    "import random\n",
    "import multiprocessing\n",
    "import pickle\n",
    "import warnings\n",
    "import gc\n",
    "from tqdm import tqdm\n",
    "import importlib\n",
    "import sys"
   ]
  },
  {
   "cell_type": "code",
   "execution_count": 2,
   "metadata": {},
   "outputs": [],
   "source": [
    "##### SETTINGS\n",
    "\n",
    "warnings.filterwarnings('ignore')\n",
    "pd.set_option('display.max_columns', None)\n",
    "plt.style.use('dark_background')\n",
    "%matplotlib inline\n",
    "gc.enable()"
   ]
  },
  {
   "cell_type": "markdown",
   "metadata": {},
   "source": [
    "# IMPORT PREDICTIONS"
   ]
  },
  {
   "cell_type": "code",
   "execution_count": null,
   "metadata": {},
   "outputs": [],
   "source": [
    "##### IMPORT OOF PREDS\n",
    "\n",
    "# version threshold\n",
    "min_lgb_version = 17\n",
    "min_df_version  = 12\n",
    "\n",
    "# prepare model names\n",
    "models = os.listdir('../oof_preds')\n",
    "models = [m for m in models if m != '.DS_Store']\n",
    "models = [m for m in models if int(m.split('_')[1][1:]) >= min_lgb_version]\n",
    "models = [m for m in models if int(m.split('_')[3][1:]) >= min_df_version]\n",
    "models = [m.replace('.npy', '') for m in models]\n",
    "models = sorted(models)\n",
    "print('OOF predictions:', len(models))\n",
    "models"
   ]
  },
  {
   "cell_type": "code",
   "execution_count": null,
   "metadata": {},
   "outputs": [],
   "source": [
    "# preprocessing loop\n",
    "for m in models:\n",
    "\n",
    "    # load preds\n",
    "    tmp_tr = np.load('../oof_preds/'           + m + '.npy')\n",
    "    tmp_te = pd.read_csv('../submissions/sub_' + m + '.csv', sep = '|')\n",
    "\n",
    "    # split OOF preds\n",
    "    tmp_preds_oof = tmp_tr[0]\n",
    "    tmp_preds_oof = pd.DataFrame(tmp_preds_oof.reshape(-1))\n",
    "    if m == models[0]:\n",
    "        reals_oof = tmp_tr[1]\n",
    "        reals_oof = pd.DataFrame(reals_oof.reshape(-1))\n",
    "        \n",
    "    # split ID from test preds\n",
    "    if m == models[0]:\n",
    "        id_test = tmp_te[['itemID']]\n",
    "    tmp_te = tmp_te[['demandPrediction']]\n",
    "\n",
    "    # rename columns\n",
    "    reals_oof.columns     = ['target']\n",
    "    tmp_preds_oof.columns = [m]    \n",
    "    tmp_te.columns        = [m]  \n",
    "\n",
    "    # stack preds\n",
    "    if m == models[0]:     \n",
    "        preds_oof  = tmp_preds_oof\n",
    "        preds_test = tmp_te\n",
    "    else:\n",
    "        preds_oof  = pd.concat([preds_oof,  tmp_preds_oof], axis = 1)\n",
    "        preds_test = pd.concat([preds_test, tmp_te],        axis = 1)\n",
    "        \n",
    "# extract OOF prices and targets\n",
    "reals_oof  = tmp_tr[1].reshape(-1)\n",
    "prices_oof = tmp_tr[2].reshape(-1)\n",
    "        \n",
    "# display information\n",
    "print('- Train shape:', preds_oof.shape)\n",
    "print('- Test shape:',  preds_test.shape)"
   ]
  },
  {
   "cell_type": "markdown",
   "metadata": {},
   "source": [
    "# BLENDING"
   ]
  },
  {
   "cell_type": "code",
   "execution_count": null,
   "metadata": {},
   "outputs": [],
   "source": [
    "##### MODULES\n",
    "\n",
    "sys.path.append('../codes')  \n",
    "\n",
    "from evaluation import profit\n",
    "from postprocessing import postprocess_preds"
   ]
  },
  {
   "cell_type": "code",
   "execution_count": null,
   "metadata": {},
   "outputs": [],
   "source": [
    "##### COMPUTE BLENDS\n",
    "\n",
    "# simple ensembles\n",
    "amean  = np.array(preds_oof.mean(axis    = 1))\n",
    "gemean = gmean(np.array(preds_oof), axis = 1)\n",
    "median = np.array(preds_oof.median(axis  = 1))\n",
    "mmin   = np.array(preds_oof.min(axis     = 1))\n",
    "mmax   = np.array(preds_oof.max(axis     = 1))\n",
    "\n",
    "# weighted mean\n",
    "model_profits = [int(m.split('_')[5]) for m in models]\n",
    "model_weights = [m / sum(model_profits) for m in model_profits]\n",
    "wmean         = np.average(np.array(preds_oof), axis = 1, weights = model_weights)"
   ]
  },
  {
   "cell_type": "code",
   "execution_count": null,
   "metadata": {},
   "outputs": [],
   "source": [
    "# check profit on training data\n",
    "for blend in [amean, gemean, median, mmin, mmax, wmean]:\n",
    "    blend   = postprocess_preds(blend)\n",
    "    profits = profit(reals_oof, blend, price = prices_oof)\n",
    "    profits = profits / tmp_tr.shape[1]\n",
    "    print('- blend profit:', np.round(profits).astype('int'))\n",
    "\n",
    "# check individual profits\n",
    "model_profits = [int(m.split('_')[5]) for m in models]\n",
    "print('')\n",
    "print('- max individual profit:', max(model_profits))"
   ]
  },
  {
   "cell_type": "code",
   "execution_count": null,
   "metadata": {},
   "outputs": [],
   "source": [
    "# compute best ensemble\n",
    "blend = np.array(preds_test.median(axis = 1))\n",
    "blend = postprocess_preds(blend)"
   ]
  },
  {
   "cell_type": "markdown",
   "metadata": {},
   "source": [
    "# SUBMISSION"
   ]
  },
  {
   "cell_type": "code",
   "execution_count": null,
   "metadata": {},
   "outputs": [],
   "source": [
    "##### SUBMISSION\n",
    "\n",
    "# model name\n",
    "name     = 'median'\n",
    "sub_name = 'blend_' + name + str(len(models)) + 'preds'\n",
    "\n",
    "# save submissiion\n",
    "sub = pd.read_csv('../submissions/sample_submission.csv', sep = '|')\n",
    "sub['demandPrediction'] = blend\n",
    "sub.to_csv('../submissions/sub_' + sub_name + '.csv', sep = '|', index = False)\n",
    "print(sub.shape)\n",
    "sub.head()"
   ]
  }
 ],
 "metadata": {
  "kernelspec": {
   "display_name": "Python 3 (ipykernel)",
   "language": "python",
   "name": "python3"
  },
  "language_info": {
   "codemirror_mode": {
    "name": "ipython",
    "version": 3
   },
   "file_extension": ".py",
   "mimetype": "text/x-python",
   "name": "python",
   "nbconvert_exporter": "python",
   "pygments_lexer": "ipython3",
   "version": "3.11.5"
  }
 },
 "nbformat": 4,
 "nbformat_minor": 4
}
