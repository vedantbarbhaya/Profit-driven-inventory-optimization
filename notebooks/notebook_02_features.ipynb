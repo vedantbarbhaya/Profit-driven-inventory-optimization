{
 "cells": [
  {
   "cell_type": "markdown",
   "metadata": {},
   "source": [
    "# SETTINGS\n",
    "\n",
    "This notebooks imports the processed data `orders.csv` and `items.csv` generated in `notebook_01_data_prep.ipynb`. \n",
    "\n",
    "The notebook performs the following operations:\n",
    "- creating new item and order-related features \n",
    "- transforming order data in the format suitable for modeling\n",
    "- exporting the resulting labeled and unlabeled data as `df.csv` and `df_test.csv`. \n",
    " \n",
    "The created features include:\n",
    "- fine-grained item categories\n",
    "- average customer ratings per category and manufacturer\n",
    "- mean prices per category and manufacturer\n",
    "- count and total amount of orders over previous time periods\n",
    "- number of promotion days \n",
    "- days since the last order\n",
    "- automatically extracted time series features using `tsfresh`\n",
    "\n",
    "A detailed walkthrough of the code covering the key steps is provided in [this blog post](https://kozodoi.me/python/time%20series/demand%20forecasting/competitions/2020/07/27/demand-forecasting.html)."
   ]
  },
  {
   "cell_type": "code",
   "execution_count": 2,
   "metadata": {},
   "outputs": [
    {
     "name": "stdout",
     "output_type": "stream",
     "text": [
      "Collecting tsfresh\n",
      "  Obtaining dependency information for tsfresh from https://files.pythonhosted.org/packages/62/72/cf614f4dc6fa0d16f6cbf9e97d464cfdf60eca7e051bcaa3f403572c007c/tsfresh-0.20.1-py2.py3-none-any.whl.metadata\n",
      "  Downloading tsfresh-0.20.1-py2.py3-none-any.whl.metadata (2.4 kB)\n",
      "Requirement already satisfied: requests>=2.9.1 in /Users/vedantbarbhaya/anaconda3/lib/python3.11/site-packages (from tsfresh) (2.31.0)\n",
      "Requirement already satisfied: numpy>=1.15.1 in /Users/vedantbarbhaya/anaconda3/lib/python3.11/site-packages (from tsfresh) (1.24.3)\n",
      "Requirement already satisfied: pandas>=0.25.0 in /Users/vedantbarbhaya/anaconda3/lib/python3.11/site-packages (from tsfresh) (2.0.3)\n",
      "Requirement already satisfied: scipy>=1.2.0 in /Users/vedantbarbhaya/anaconda3/lib/python3.11/site-packages (from tsfresh) (1.11.1)\n",
      "Requirement already satisfied: statsmodels>=0.13 in /Users/vedantbarbhaya/anaconda3/lib/python3.11/site-packages (from tsfresh) (0.14.0)\n",
      "Requirement already satisfied: patsy>=0.4.1 in /Users/vedantbarbhaya/anaconda3/lib/python3.11/site-packages (from tsfresh) (0.5.3)\n",
      "Requirement already satisfied: scikit-learn>=0.22.0 in /Users/vedantbarbhaya/anaconda3/lib/python3.11/site-packages (from tsfresh) (1.3.0)\n",
      "Requirement already satisfied: tqdm>=4.10.0 in /Users/vedantbarbhaya/anaconda3/lib/python3.11/site-packages (from tsfresh) (4.65.0)\n",
      "Requirement already satisfied: dask[dataframe]>=2.9.0 in /Users/vedantbarbhaya/anaconda3/lib/python3.11/site-packages (from tsfresh) (2023.6.0)\n",
      "Requirement already satisfied: distributed>=2.11.0 in /Users/vedantbarbhaya/anaconda3/lib/python3.11/site-packages (from tsfresh) (2023.6.0)\n",
      "Collecting stumpy>=1.7.2 (from tsfresh)\n",
      "  Obtaining dependency information for stumpy>=1.7.2 from https://files.pythonhosted.org/packages/c4/9d/9752261f8fe19ab4239caf1ba3864b04a0d7ab0033155cb11f86f124a642/stumpy-1.12.0-py3-none-any.whl.metadata\n",
      "  Downloading stumpy-1.12.0-py3-none-any.whl.metadata (27 kB)\n",
      "Requirement already satisfied: cloudpickle in /Users/vedantbarbhaya/anaconda3/lib/python3.11/site-packages (from tsfresh) (2.2.1)\n",
      "Requirement already satisfied: click>=8.0 in /Users/vedantbarbhaya/anaconda3/lib/python3.11/site-packages (from dask[dataframe]>=2.9.0->tsfresh) (8.0.4)\n",
      "Requirement already satisfied: fsspec>=2021.09.0 in /Users/vedantbarbhaya/anaconda3/lib/python3.11/site-packages (from dask[dataframe]>=2.9.0->tsfresh) (2023.4.0)\n",
      "Requirement already satisfied: packaging>=20.0 in /Users/vedantbarbhaya/anaconda3/lib/python3.11/site-packages (from dask[dataframe]>=2.9.0->tsfresh) (23.1)\n",
      "Requirement already satisfied: partd>=1.2.0 in /Users/vedantbarbhaya/anaconda3/lib/python3.11/site-packages (from dask[dataframe]>=2.9.0->tsfresh) (1.4.0)\n",
      "Requirement already satisfied: pyyaml>=5.3.1 in /Users/vedantbarbhaya/anaconda3/lib/python3.11/site-packages (from dask[dataframe]>=2.9.0->tsfresh) (6.0)\n",
      "Requirement already satisfied: toolz>=0.10.0 in /Users/vedantbarbhaya/anaconda3/lib/python3.11/site-packages (from dask[dataframe]>=2.9.0->tsfresh) (0.12.0)\n",
      "Requirement already satisfied: importlib-metadata>=4.13.0 in /Users/vedantbarbhaya/anaconda3/lib/python3.11/site-packages (from dask[dataframe]>=2.9.0->tsfresh) (6.0.0)\n",
      "Requirement already satisfied: jinja2>=2.10.3 in /Users/vedantbarbhaya/anaconda3/lib/python3.11/site-packages (from distributed>=2.11.0->tsfresh) (3.1.2)\n",
      "Requirement already satisfied: locket>=1.0.0 in /Users/vedantbarbhaya/anaconda3/lib/python3.11/site-packages (from distributed>=2.11.0->tsfresh) (1.0.0)\n",
      "Requirement already satisfied: msgpack>=1.0.0 in /Users/vedantbarbhaya/anaconda3/lib/python3.11/site-packages (from distributed>=2.11.0->tsfresh) (1.0.3)\n",
      "Requirement already satisfied: psutil>=5.7.2 in /Users/vedantbarbhaya/anaconda3/lib/python3.11/site-packages (from distributed>=2.11.0->tsfresh) (5.9.0)\n",
      "Requirement already satisfied: sortedcontainers>=2.0.5 in /Users/vedantbarbhaya/anaconda3/lib/python3.11/site-packages (from distributed>=2.11.0->tsfresh) (2.4.0)\n",
      "Requirement already satisfied: tblib>=1.6.0 in /Users/vedantbarbhaya/anaconda3/lib/python3.11/site-packages (from distributed>=2.11.0->tsfresh) (1.7.0)\n",
      "Requirement already satisfied: tornado>=6.0.4 in /Users/vedantbarbhaya/anaconda3/lib/python3.11/site-packages (from distributed>=2.11.0->tsfresh) (6.3.2)\n",
      "Requirement already satisfied: urllib3>=1.24.3 in /Users/vedantbarbhaya/anaconda3/lib/python3.11/site-packages (from distributed>=2.11.0->tsfresh) (1.26.16)\n",
      "Requirement already satisfied: zict>=2.2.0 in /Users/vedantbarbhaya/anaconda3/lib/python3.11/site-packages (from distributed>=2.11.0->tsfresh) (2.2.0)\n",
      "Requirement already satisfied: python-dateutil>=2.8.2 in /Users/vedantbarbhaya/anaconda3/lib/python3.11/site-packages (from pandas>=0.25.0->tsfresh) (2.8.2)\n",
      "Requirement already satisfied: pytz>=2020.1 in /Users/vedantbarbhaya/anaconda3/lib/python3.11/site-packages (from pandas>=0.25.0->tsfresh) (2023.3.post1)\n",
      "Requirement already satisfied: tzdata>=2022.1 in /Users/vedantbarbhaya/anaconda3/lib/python3.11/site-packages (from pandas>=0.25.0->tsfresh) (2023.3)\n",
      "Requirement already satisfied: six in /Users/vedantbarbhaya/anaconda3/lib/python3.11/site-packages (from patsy>=0.4.1->tsfresh) (1.16.0)\n",
      "Requirement already satisfied: charset-normalizer<4,>=2 in /Users/vedantbarbhaya/anaconda3/lib/python3.11/site-packages (from requests>=2.9.1->tsfresh) (2.0.4)\n",
      "Requirement already satisfied: idna<4,>=2.5 in /Users/vedantbarbhaya/anaconda3/lib/python3.11/site-packages (from requests>=2.9.1->tsfresh) (3.4)\n",
      "Requirement already satisfied: certifi>=2017.4.17 in /Users/vedantbarbhaya/anaconda3/lib/python3.11/site-packages (from requests>=2.9.1->tsfresh) (2023.11.17)\n",
      "Requirement already satisfied: joblib>=1.1.1 in /Users/vedantbarbhaya/anaconda3/lib/python3.11/site-packages (from scikit-learn>=0.22.0->tsfresh) (1.2.0)\n",
      "Requirement already satisfied: threadpoolctl>=2.0.0 in /Users/vedantbarbhaya/anaconda3/lib/python3.11/site-packages (from scikit-learn>=0.22.0->tsfresh) (2.2.0)\n",
      "Requirement already satisfied: numba>=0.55.2 in /Users/vedantbarbhaya/anaconda3/lib/python3.11/site-packages (from stumpy>=1.7.2->tsfresh) (0.57.1)\n",
      "Requirement already satisfied: zipp>=0.5 in /Users/vedantbarbhaya/anaconda3/lib/python3.11/site-packages (from importlib-metadata>=4.13.0->dask[dataframe]>=2.9.0->tsfresh) (3.11.0)\n",
      "Requirement already satisfied: MarkupSafe>=2.0 in /Users/vedantbarbhaya/anaconda3/lib/python3.11/site-packages (from jinja2>=2.10.3->distributed>=2.11.0->tsfresh) (2.1.1)\n",
      "Requirement already satisfied: llvmlite<0.41,>=0.40.0dev0 in /Users/vedantbarbhaya/anaconda3/lib/python3.11/site-packages (from numba>=0.55.2->stumpy>=1.7.2->tsfresh) (0.40.0)\n",
      "Requirement already satisfied: heapdict in /Users/vedantbarbhaya/anaconda3/lib/python3.11/site-packages (from zict>=2.2.0->distributed>=2.11.0->tsfresh) (1.0.1)\n",
      "Downloading tsfresh-0.20.1-py2.py3-none-any.whl (95 kB)\n",
      "\u001b[2K   \u001b[90m━━━━━━━━━━━━━━━━━━━━━━━━━━━━━━━━━━━━━━━━\u001b[0m \u001b[32m95.3/95.3 kB\u001b[0m \u001b[31m671.1 kB/s\u001b[0m eta \u001b[36m0:00:00\u001b[0m\u001b[36m0:00:01\u001b[0m\n",
      "\u001b[?25hDownloading stumpy-1.12.0-py3-none-any.whl (169 kB)\n",
      "\u001b[2K   \u001b[90m━━━━━━━━━━━━━━━━━━━━━━━━━━━━━━━━━━━━━━━━\u001b[0m \u001b[32m169.1/169.1 kB\u001b[0m \u001b[31m1.2 MB/s\u001b[0m eta \u001b[36m0:00:00\u001b[0ma \u001b[36m0:00:01\u001b[0m\n",
      "\u001b[?25hInstalling collected packages: stumpy, tsfresh\n",
      "Successfully installed stumpy-1.12.0 tsfresh-0.20.1\n"
     ]
    }
   ],
   "source": [
    "##### LIBRARIES\n",
    "!pip install tsfresh\n",
    "import numpy as np\n",
    "import pandas as pd\n",
    "\n",
    "import matplotlib.pyplot as plt\n",
    "import seaborn as sns\n",
    "\n",
    "import scipy.stats\n",
    "from scipy.signal import find_peaks\n",
    "\n",
    "import os\n",
    "import time\n",
    "import datetime\n",
    "import random\n",
    "import multiprocessing\n",
    "import pickle\n",
    "import warnings\n",
    "import gc\n",
    "from tqdm import tqdm\n",
    "import sys\n",
    "\n",
    "from tsfresh import extract_features"
   ]
  },
  {
   "cell_type": "code",
   "execution_count": 3,
   "metadata": {},
   "outputs": [],
   "source": [
    "##### MODULES\n",
    "\n",
    "sys.path.append('../codes')  \n",
    "\n",
    "from versioning import save_csv_version"
   ]
  },
  {
   "cell_type": "code",
   "execution_count": 4,
   "metadata": {},
   "outputs": [],
   "source": [
    "##### SETTINGS\n",
    "\n",
    "warnings.filterwarnings('ignore')\n",
    "pd.set_option('display.max_columns', None)\n",
    "plt.style.use('dark_background')\n",
    "%matplotlib inline\n",
    "gc.enable()"
   ]
  },
  {
   "cell_type": "markdown",
   "metadata": {},
   "source": [
    "# DATA IMPORT"
   ]
  },
  {
   "cell_type": "code",
   "execution_count": 5,
   "metadata": {},
   "outputs": [
    {
     "name": "stdout",
     "output_type": "stream",
     "text": [
      "(2181955, 5)\n",
      "(10463, 12)\n"
     ]
    }
   ],
   "source": [
    "# read data\n",
    "orders = pd.read_csv('../data/prepared/orders_v1.csv', compression = 'gzip')\n",
    "items  = pd.read_csv('../data/prepared/items_v1.csv',  compression = 'gzip')\n",
    "print(orders.shape)\n",
    "print(items.shape)"
   ]
  },
  {
   "cell_type": "code",
   "execution_count": 6,
   "metadata": {},
   "outputs": [],
   "source": [
    "# convert dates\n",
    "orders['time']       = pd.to_datetime(orders['time'].astype('str'),       infer_datetime_format = True)\n",
    "items['promotion_0'] = pd.to_datetime(items['promotion_0'].astype('str'), infer_datetime_format = True)\n",
    "items['promotion_1'] = pd.to_datetime(items['promotion_1'].astype('str'), infer_datetime_format = True)\n",
    "items['promotion_2'] = pd.to_datetime(items['promotion_2'].astype('str'), infer_datetime_format = True)"
   ]
  },
  {
   "cell_type": "markdown",
   "metadata": {},
   "source": [
    "# ADD FEATURES: ITEMS"
   ]
  },
  {
   "cell_type": "code",
   "execution_count": 7,
   "metadata": {},
   "outputs": [
    {
     "data": {
      "text/html": [
       "<div>\n",
       "<style scoped>\n",
       "    .dataframe tbody tr th:only-of-type {\n",
       "        vertical-align: middle;\n",
       "    }\n",
       "\n",
       "    .dataframe tbody tr th {\n",
       "        vertical-align: top;\n",
       "    }\n",
       "\n",
       "    .dataframe thead th {\n",
       "        text-align: right;\n",
       "    }\n",
       "</style>\n",
       "<table border=\"1\" class=\"dataframe\">\n",
       "  <thead>\n",
       "    <tr style=\"text-align: right;\">\n",
       "      <th></th>\n",
       "      <th>itemID</th>\n",
       "      <th>simulationPrice</th>\n",
       "      <th>brand</th>\n",
       "      <th>manufacturer</th>\n",
       "      <th>customerRating</th>\n",
       "      <th>category1</th>\n",
       "      <th>category2</th>\n",
       "      <th>category3</th>\n",
       "      <th>recommendedRetailPrice</th>\n",
       "      <th>promotion_0</th>\n",
       "      <th>promotion_1</th>\n",
       "      <th>promotion_2</th>\n",
       "    </tr>\n",
       "  </thead>\n",
       "  <tbody>\n",
       "    <tr>\n",
       "      <th>0</th>\n",
       "      <td>1</td>\n",
       "      <td>3.43</td>\n",
       "      <td>NaN</td>\n",
       "      <td>1</td>\n",
       "      <td>4.38</td>\n",
       "      <td>1</td>\n",
       "      <td>1</td>\n",
       "      <td>1</td>\n",
       "      <td>8.84</td>\n",
       "      <td>NaT</td>\n",
       "      <td>NaT</td>\n",
       "      <td>NaT</td>\n",
       "    </tr>\n",
       "    <tr>\n",
       "      <th>1</th>\n",
       "      <td>2</td>\n",
       "      <td>9.15</td>\n",
       "      <td>NaN</td>\n",
       "      <td>2</td>\n",
       "      <td>3.00</td>\n",
       "      <td>1</td>\n",
       "      <td>2</td>\n",
       "      <td>1</td>\n",
       "      <td>16.92</td>\n",
       "      <td>NaT</td>\n",
       "      <td>NaT</td>\n",
       "      <td>NaT</td>\n",
       "    </tr>\n",
       "    <tr>\n",
       "      <th>2</th>\n",
       "      <td>3</td>\n",
       "      <td>14.04</td>\n",
       "      <td>NaN</td>\n",
       "      <td>3</td>\n",
       "      <td>5.00</td>\n",
       "      <td>1</td>\n",
       "      <td>3</td>\n",
       "      <td>1</td>\n",
       "      <td>15.89</td>\n",
       "      <td>NaT</td>\n",
       "      <td>NaT</td>\n",
       "      <td>NaT</td>\n",
       "    </tr>\n",
       "    <tr>\n",
       "      <th>3</th>\n",
       "      <td>4</td>\n",
       "      <td>14.10</td>\n",
       "      <td>NaN</td>\n",
       "      <td>2</td>\n",
       "      <td>4.44</td>\n",
       "      <td>1</td>\n",
       "      <td>2</td>\n",
       "      <td>1</td>\n",
       "      <td>40.17</td>\n",
       "      <td>NaT</td>\n",
       "      <td>NaT</td>\n",
       "      <td>NaT</td>\n",
       "    </tr>\n",
       "    <tr>\n",
       "      <th>4</th>\n",
       "      <td>5</td>\n",
       "      <td>7.48</td>\n",
       "      <td>NaN</td>\n",
       "      <td>2</td>\n",
       "      <td>2.33</td>\n",
       "      <td>1</td>\n",
       "      <td>1</td>\n",
       "      <td>1</td>\n",
       "      <td>17.04</td>\n",
       "      <td>NaT</td>\n",
       "      <td>NaT</td>\n",
       "      <td>NaT</td>\n",
       "    </tr>\n",
       "  </tbody>\n",
       "</table>\n",
       "</div>"
      ],
      "text/plain": [
       "   itemID  simulationPrice  brand  manufacturer  customerRating  category1  \\\n",
       "0       1             3.43    NaN             1            4.38          1   \n",
       "1       2             9.15    NaN             2            3.00          1   \n",
       "2       3            14.04    NaN             3            5.00          1   \n",
       "3       4            14.10    NaN             2            4.44          1   \n",
       "4       5             7.48    NaN             2            2.33          1   \n",
       "\n",
       "   category2  category3  recommendedRetailPrice promotion_0 promotion_1  \\\n",
       "0          1          1                    8.84         NaT         NaT   \n",
       "1          2          1                   16.92         NaT         NaT   \n",
       "2          3          1                   15.89         NaT         NaT   \n",
       "3          2          1                   40.17         NaT         NaT   \n",
       "4          1          1                   17.04         NaT         NaT   \n",
       "\n",
       "  promotion_2  \n",
       "0         NaT  \n",
       "1         NaT  \n",
       "2         NaT  \n",
       "3         NaT  \n",
       "4         NaT  "
      ]
     },
     "execution_count": 7,
     "metadata": {},
     "output_type": "execute_result"
    }
   ],
   "source": [
    "items.head()"
   ]
  },
  {
   "cell_type": "code",
   "execution_count": 8,
   "metadata": {},
   "outputs": [
    {
     "data": {
      "text/plain": [
       "count    10463.000000\n",
       "mean         0.957107\n",
       "std          0.616878\n",
       "min          0.020094\n",
       "25%          0.449184\n",
       "50%          0.813378\n",
       "75%          1.359211\n",
       "max          5.678983\n",
       "Name: recommended_simulation_price_ratio, dtype: float64"
      ]
     },
     "execution_count": 8,
     "metadata": {},
     "output_type": "execute_result"
    }
   ],
   "source": [
    "# price ratio\n",
    "items['recommended_simulation_price_ratio'] = items['simulationPrice'] / items['recommendedRetailPrice']\n",
    "items['recommended_simulation_price_ratio'].describe()"
   ]
  },
  {
   "cell_type": "code",
   "execution_count": 9,
   "metadata": {},
   "outputs": [
    {
     "data": {
      "text/plain": [
       "75"
      ]
     },
     "execution_count": 9,
     "metadata": {},
     "output_type": "execute_result"
    }
   ],
   "source": [
    "# detailed item category\n",
    "items['category'] = items['category1'].astype(str) + items['category2'].astype(str) + items['category3'].astype(str)\n",
    "items['category'] = items['category'].astype(int)\n",
    "items['category'].nunique()"
   ]
  },
  {
   "cell_type": "code",
   "execution_count": 10,
   "metadata": {},
   "outputs": [
    {
     "data": {
      "text/plain": [
       "count    3346.000000\n",
       "mean        1.000000\n",
       "std         0.231363\n",
       "min         0.211680\n",
       "25%         0.944197\n",
       "50%         1.060606\n",
       "75%         1.136024\n",
       "max         1.767617\n",
       "Name: customerRating_manufacturer_ratio, dtype: float64"
      ]
     },
     "execution_count": 10,
     "metadata": {},
     "output_type": "execute_result"
    }
   ],
   "source": [
    "# customer rating ratio per manufacturer\n",
    "rating_manufacturer = items.groupby('manufacturer')['customerRating'].agg('mean').reset_index()\n",
    "rating_manufacturer.columns = ['manufacturer', 'mean_customerRating_manufacturer']\n",
    "items = items.merge(rating_manufacturer, how = 'left', on = 'manufacturer')\n",
    "items['customerRating_manufacturer_ratio'] = items['customerRating'] / items['mean_customerRating_manufacturer']\n",
    "del items['mean_customerRating_manufacturer']\n",
    "items['customerRating_manufacturer_ratio'].describe()"
   ]
  },
  {
   "cell_type": "code",
   "execution_count": 12,
   "metadata": {},
   "outputs": [
    {
     "data": {
      "text/plain": [
       "count    3346.000000\n",
       "mean        1.000000\n",
       "std         0.233089\n",
       "min         0.211423\n",
       "25%         0.927767\n",
       "50%         1.098585\n",
       "75%         1.125704\n",
       "max         1.714286\n",
       "Name: customerRating_category_ratio, dtype: float64"
      ]
     },
     "execution_count": 12,
     "metadata": {},
     "output_type": "execute_result"
    }
   ],
   "source": [
    "# customer rating ratio per category\n",
    "rating_category = items.groupby('category')['customerRating'].agg('mean').reset_index()\n",
    "rating_category.columns = ['category', 'mean_customerRating_category']\n",
    "items = items.merge(rating_category, how = 'left', on = 'category')\n",
    "items['customerRating_category_ratio'] = items['customerRating'] / items['mean_customerRating_category']\n",
    "del items['mean_customerRating_category']\n",
    "items['customerRating_category_ratio'].describe()"
   ]
  },
  {
   "cell_type": "markdown",
   "metadata": {},
   "source": [
    "# ADD FEATURES: ORDERS"
   ]
  },
  {
   "cell_type": "code",
   "execution_count": 13,
   "metadata": {},
   "outputs": [
    {
     "name": "stdout",
     "output_type": "stream",
     "text": [
      "2715559\n"
     ]
    }
   ],
   "source": [
    "# total orders\n",
    "print(orders['order'].sum())"
   ]
  },
  {
   "cell_type": "code",
   "execution_count": 14,
   "metadata": {},
   "outputs": [
    {
     "data": {
      "text/html": [
       "<div>\n",
       "<style scoped>\n",
       "    .dataframe tbody tr th:only-of-type {\n",
       "        vertical-align: middle;\n",
       "    }\n",
       "\n",
       "    .dataframe tbody tr th {\n",
       "        vertical-align: top;\n",
       "    }\n",
       "\n",
       "    .dataframe thead th {\n",
       "        text-align: right;\n",
       "    }\n",
       "</style>\n",
       "<table border=\"1\" class=\"dataframe\">\n",
       "  <thead>\n",
       "    <tr style=\"text-align: right;\">\n",
       "      <th></th>\n",
       "      <th>itemID</th>\n",
       "      <th>day_of_year</th>\n",
       "      <th>order</th>\n",
       "    </tr>\n",
       "  </thead>\n",
       "  <tbody>\n",
       "    <tr>\n",
       "      <th>0</th>\n",
       "      <td>1</td>\n",
       "      <td>23</td>\n",
       "      <td>1</td>\n",
       "    </tr>\n",
       "    <tr>\n",
       "      <th>1</th>\n",
       "      <td>1</td>\n",
       "      <td>25</td>\n",
       "      <td>1</td>\n",
       "    </tr>\n",
       "    <tr>\n",
       "      <th>2</th>\n",
       "      <td>1</td>\n",
       "      <td>29</td>\n",
       "      <td>307</td>\n",
       "    </tr>\n",
       "    <tr>\n",
       "      <th>3</th>\n",
       "      <td>1</td>\n",
       "      <td>30</td>\n",
       "      <td>3</td>\n",
       "    </tr>\n",
       "    <tr>\n",
       "      <th>4</th>\n",
       "      <td>1</td>\n",
       "      <td>31</td>\n",
       "      <td>1</td>\n",
       "    </tr>\n",
       "  </tbody>\n",
       "</table>\n",
       "</div>"
      ],
      "text/plain": [
       "   itemID  day_of_year  order\n",
       "0       1           23      1\n",
       "1       1           25      1\n",
       "2       1           29    307\n",
       "3       1           30      3\n",
       "4       1           31      1"
      ]
     },
     "execution_count": 14,
     "metadata": {},
     "output_type": "execute_result"
    }
   ],
   "source": [
    "##### AGGREGATE ORDERS BY DAY\n",
    "\n",
    "# aggregation\n",
    "orders['day_of_year'] = orders['time'].dt.dayofyear\n",
    "orders_price = orders.groupby(['itemID', 'day_of_year'])['salesPrice'].agg('mean').reset_index()\n",
    "orders = orders.groupby(['itemID', 'day_of_year'])['order'].agg('sum').reset_index()\n",
    "orders.head()"
   ]
  },
  {
   "cell_type": "code",
   "execution_count": 15,
   "metadata": {},
   "outputs": [
    {
     "name": "stdout",
     "output_type": "stream",
     "text": [
      "2715559\n"
     ]
    }
   ],
   "source": [
    "# check total orders\n",
    "print(orders['order'].sum())"
   ]
  },
  {
   "cell_type": "code",
   "execution_count": 16,
   "metadata": {},
   "outputs": [
    {
     "name": "stdout",
     "output_type": "stream",
     "text": [
      "(100771, 3)\n",
      "(1883340, 3)\n"
     ]
    }
   ],
   "source": [
    "##### ADD MISSING INPUTS [ORDERS]\n",
    "\n",
    "# add items that were never sold before\n",
    "missing_itemIDs = set(items['itemID'].unique()) - set(orders['itemID'].unique())\n",
    "missing_rows = pd.DataFrame({'itemID':     list(missing_itemIDs), \n",
    "                            'day_of_year': np.ones(len(missing_itemIDs)).astype('int'), \n",
    "                            'order':       np.zeros(len(missing_itemIDs)).astype('int')})\n",
    "orders = pd.concat([orders, missing_rows], axis = 0)\n",
    "print(orders.shape)\n",
    "\n",
    "# add zeros for days with no transactions\n",
    "agg_orders = orders.groupby(['itemID', 'day_of_year']).order.unique().unstack('day_of_year').stack('day_of_year', dropna = False)\n",
    "agg_orders = agg_orders.reset_index()\n",
    "agg_orders.columns = ['itemID', 'day_of_year', 'order']\n",
    "agg_orders['order'].fillna(0, inplace = True)\n",
    "agg_orders['order'] = agg_orders['order'].astype(int)\n",
    "print(agg_orders.shape)"
   ]
  },
  {
   "cell_type": "code",
   "execution_count": 17,
   "metadata": {},
   "outputs": [
    {
     "name": "stdout",
     "output_type": "stream",
     "text": [
      "(100771, 3)\n",
      "(1883340, 3)\n",
      "(1883340, 4)\n"
     ]
    }
   ],
   "source": [
    "##### ADD MISSING INPUTS [PRICES]\n",
    "\n",
    "# add items that were never sold before\n",
    "missing_rows = pd.DataFrame({'itemID':     list(missing_itemIDs), \n",
    "                            'day_of_year': np.ones(len(missing_itemIDs)).astype('int'), \n",
    "                            'salesPrice':  np.zeros(len(missing_itemIDs)).astype('int')})\n",
    "orders_price = pd.concat([orders_price, missing_rows], axis = 0)\n",
    "print(orders_price.shape)\n",
    "\n",
    "# add zeros for days with no transactions\n",
    "agg_orders_price = orders_price.groupby(['itemID', 'day_of_year']).salesPrice.unique().unstack('day_of_year').stack('day_of_year', dropna = False)\n",
    "agg_orders_price = agg_orders_price.reset_index()\n",
    "agg_orders_price.columns = ['itemID', 'day_of_year', 'salesPrice']\n",
    "agg_orders_price['salesPrice'].fillna(0, inplace = True)\n",
    "agg_orders_price['salesPrice'] = agg_orders_price['salesPrice'].astype(int)\n",
    "agg_orders_price['salesPrice'][agg_orders_price['salesPrice'] == 0] = np.nan\n",
    "print(agg_orders_price.shape)\n",
    "\n",
    "# fill missing prices for dates with no orders\n",
    "agg_orders_price['salesPrice'] = agg_orders_price.groupby(['itemID']).salesPrice.fillna(method = 'ffill')\n",
    "agg_orders_price['salesPrice'] = agg_orders_price.groupby(['itemID']).salesPrice.fillna(method = 'bfill')\n",
    "agg_orders_price = agg_orders_price.merge(items[['itemID', 'simulationPrice']], how = 'left', on = 'itemID')\n",
    "agg_orders_price['salesPrice'][agg_orders_price['salesPrice'].isnull()] = agg_orders_price['simulationPrice'][agg_orders_price['salesPrice'].isnull()]\n",
    "del agg_orders_price['simulationPrice']\n",
    "\n",
    "# merge prices to orders\n",
    "agg_orders = agg_orders.merge(agg_orders_price, how = 'left', on = ['itemID', 'day_of_year'])\n",
    "print(agg_orders.shape)"
   ]
  },
  {
   "cell_type": "code",
   "execution_count": 18,
   "metadata": {},
   "outputs": [
    {
     "name": "stderr",
     "output_type": "stream",
     "text": [
      "100%|████████████████████████████████████| 10463/10463 [00:46<00:00, 223.24it/s]"
     ]
    },
    {
     "name": "stdout",
     "output_type": "stream",
     "text": [
      "14911\n"
     ]
    },
    {
     "name": "stderr",
     "output_type": "stream",
     "text": [
      "\n"
     ]
    }
   ],
   "source": [
    "##### FIND PROMOTION DAYS\n",
    "\n",
    "# documentation says that we have to manually mark promotion days in the training period\n",
    "# without marking, predictions are difficult because orders in some days explode without apparent reason\n",
    "# we need to be very careful with threshold and rely on visual analysis and/or better metric to mark promos\n",
    "# I started with treating promotions as days when the number of orders for a given item exceeds 90th percentile\n",
    "# now I am trying to use a smarter technique using find_peaks() and specifying height and prominence\n",
    "\n",
    "# computations\n",
    "agg_orders['promotion'] = 0\n",
    "for itemID in tqdm(agg_orders['itemID'].unique()):\n",
    "    '''\n",
    "    # using quantiles\n",
    "    promo_quant = orders[orders['itemID'] == itemID]['order'].quantile(0.90)\n",
    "    orders.loc[(orders['itemID'] == itemID) & (orders['order'] >= promo_quant), 'promotion'] = 1\n",
    "    '''\n",
    "    # using find_peaks\n",
    "    promo    = np.zeros(len(agg_orders[agg_orders['itemID'] == itemID]))\n",
    "    avg      = agg_orders[(agg_orders['itemID'] == itemID)]['order'].median()\n",
    "    std      = agg_orders[(agg_orders['itemID'] == itemID)]['order'].std()\n",
    "    peaks, _ = find_peaks(np.append(agg_orders[agg_orders['itemID'] == itemID]['order'].values, avg), # append avg to enable marking last point as promo\n",
    "                          prominence = max(5, std),  # peak difference with neighbor points; max(5,std) to exclude cases when std is too small\n",
    "                          height     = avg + 2*std)  # minimal height of a peak\n",
    "    promo[peaks] = 1\n",
    "    agg_orders.loc[agg_orders['itemID'] == itemID, 'promotion'] = promo\n",
    "    \n",
    "# check total promotions\n",
    "print(agg_orders['promotion'].sum())"
   ]
  },
  {
   "cell_type": "code",
   "execution_count": 20,
   "metadata": {},
   "outputs": [
    {
     "name": "stdout",
     "output_type": "stream",
     "text": [
      "Daily p(promotion) per item in train: 0.0079\n",
      "Daily p(promotion) per item in test:  0.0141\n"
     ]
    }
   ],
   "source": [
    "##### COMPARE PROMOTIONS NUMBER\n",
    "\n",
    "# computations\n",
    "promo_in_train = (agg_orders['promotion'].sum() / agg_orders['day_of_year'].max()) / len(items)\n",
    "promo_in_test  = (3*len(items) - items.promotion_0.isnull().sum() - items.promotion_2.isnull().sum() - items.promotion_1.isnull().sum()) / 14 / len(items)\n",
    "\n",
    "# info\n",
    "print('Daily p(promotion) per item in train: {}'.format(np.round(promo_in_train, 4)))\n",
    "print('Daily p(promotion) per item in test:  {}'.format(np.round(promo_in_test , 4)))"
   ]
  },
  {
   "cell_type": "code",
   "execution_count": 21,
   "metadata": {},
   "outputs": [
    {
     "data": {
      "image/png": "[encoded data removed]",
      "text/plain": [
       "<Figure size 1600x1200 with 12 Axes>"
      ]
     },
     "metadata": {},
     "output_type": "display_data"
    }
   ],
   "source": [
    "##### EXAMPLE SALES PLOT\n",
    "\n",
    "# compute promo count\n",
    "promo_count = agg_orders.groupby('itemID')['promotion'].agg('sum').reset_index()\n",
    "promo_count = promo_count.sort_values('promotion').reset_index(drop = True)\n",
    "\n",
    "# plot some items\n",
    "item_plots = [0, 2000, 4000, 6000, 8000, 9000, 10000, 10100, 10200, 10300, 10400, 10462]\n",
    "fig = plt.figure(figsize = (16, 12))\n",
    "for i in range(len(item_plots)):\n",
    "    plt.subplot(3, 4, i + 1)\n",
    "    df = agg_orders[agg_orders.itemID == promo_count['itemID'][item_plots[i]]]\n",
    "    plt.scatter(df['day_of_year'], df['order'], c = df['promotion'])\n",
    "    plt.ylabel('Total Orders')\n",
    "    plt.xlabel('Day')"
   ]
  },
  {
   "cell_type": "code",
   "execution_count": 24,
   "metadata": {
    "jupyter": {
     "outputs_hidden": true
    }
   },
   "outputs": [
    {
     "name": "stderr",
     "output_type": "stream",
     "text": [
      "  0%|                                                    | 0/19 [00:00<?, ?it/s]\n",
      "Feature Extraction:   0%|                                | 0/20 [00:00<?, ?it/s]\u001b[A\n",
      "Feature Extraction:   5%|█▏                      | 1/20 [00:09<02:57,  9.32s/it]\u001b[A\n",
      "Feature Extraction:  10%|██▍                     | 2/20 [00:09<01:11,  4.00s/it]\u001b[A\n",
      "Feature Extraction:  15%|███▌                    | 3/20 [00:10<00:40,  2.37s/it]\u001b[A\n",
      "Feature Extraction:  20%|████▊                   | 4/20 [00:10<00:25,  1.59s/it]\u001b[A\n",
      "Feature Extraction:  25%|██████                  | 5/20 [00:18<00:56,  3.75s/it]\u001b[A\n",
      "Feature Extraction:  30%|███████▏                | 6/20 [00:18<00:36,  2.62s/it]\u001b[A\n",
      "Feature Extraction:  35%|████████▍               | 7/20 [00:19<00:26,  2.05s/it]\u001b[A\n",
      "Feature Extraction:  40%|█████████▌              | 8/20 [00:19<00:18,  1.50s/it]\u001b[A\n",
      "Feature Extraction:  45%|██████████▊             | 9/20 [00:25<00:30,  2.77s/it]\u001b[A\n",
      "Feature Extraction:  50%|███████████▌           | 10/20 [00:25<00:20,  2.01s/it]\u001b[A\n",
      "Feature Extraction:  55%|████████████▋          | 11/20 [00:25<00:13,  1.47s/it]\u001b[A\n",
      "Feature Extraction:  60%|█████████████▊         | 12/20 [00:26<00:09,  1.22s/it]\u001b[A\n",
      "Feature Extraction:  65%|██████████████▉        | 13/20 [00:32<00:19,  2.77s/it]\u001b[A\n",
      "Feature Extraction:  70%|████████████████       | 14/20 [00:33<00:12,  2.14s/it]\u001b[A\n",
      "Feature Extraction:  75%|█████████████████▎     | 15/20 [00:34<00:08,  1.70s/it]\u001b[A\n",
      "Feature Extraction:  80%|██████████████████▍    | 16/20 [00:34<00:05,  1.31s/it]\u001b[A\n",
      "Feature Extraction:  85%|███████████████████▌   | 17/20 [00:40<00:08,  2.67s/it]\u001b[A\n",
      "Feature Extraction:  90%|████████████████████▋  | 18/20 [00:40<00:04,  2.04s/it]\u001b[A\n",
      "Feature Extraction:  95%|█████████████████████▊ | 19/20 [00:41<00:01,  1.56s/it]\u001b[A\n",
      "Feature Extraction: 100%|███████████████████████| 20/20 [00:41<00:00,  2.07s/it]\u001b[A\n",
      "  5%|██▎                                         | 1/19 [00:48<14:32, 48.44s/it]\n",
      "Feature Extraction:   0%|                                | 0/20 [00:00<?, ?it/s]\u001b[A\n",
      "Feature Extraction:   5%|█▏                      | 1/20 [00:08<02:38,  8.35s/it]\u001b[A\n",
      "Feature Extraction:  10%|██▍                     | 2/20 [00:08<01:05,  3.64s/it]\u001b[A\n",
      "Feature Extraction:  15%|███▌                    | 3/20 [00:09<00:36,  2.16s/it]\u001b[A\n",
      "Feature Extraction:  20%|████▊                   | 4/20 [00:09<00:22,  1.42s/it]\u001b[A\n",
      "Feature Extraction:  25%|██████                  | 5/20 [00:15<00:48,  3.22s/it]\u001b[A\n",
      "Feature Extraction:  30%|███████▏                | 6/20 [00:16<00:31,  2.27s/it]\u001b[A\n",
      "Feature Extraction:  35%|████████▍               | 7/20 [00:17<00:24,  1.86s/it]\u001b[A\n",
      "Feature Extraction:  40%|█████████▌              | 8/20 [00:17<00:16,  1.38s/it]\u001b[A\n",
      "Feature Extraction:  45%|██████████▊             | 9/20 [00:24<00:34,  3.13s/it]\u001b[A\n",
      "Feature Extraction:  50%|███████████▌           | 10/20 [00:24<00:22,  2.30s/it]\u001b[A\n",
      "Feature Extraction:  55%|████████████▋          | 11/20 [00:25<00:15,  1.70s/it]\u001b[A\n",
      "Feature Extraction:  60%|█████████████▊         | 12/20 [00:26<00:11,  1.41s/it]\u001b[A\n",
      "Feature Extraction:  65%|██████████████▉        | 13/20 [00:32<00:19,  2.83s/it]\u001b[A\n",
      "Feature Extraction:  70%|████████████████       | 14/20 [00:32<00:12,  2.16s/it]\u001b[A\n",
      "Feature Extraction:  75%|█████████████████▎     | 15/20 [00:33<00:08,  1.73s/it]\u001b[A\n",
      "Feature Extraction:  80%|██████████████████▍    | 16/20 [00:34<00:05,  1.40s/it]\u001b[A\n",
      "Feature Extraction:  85%|███████████████████▌   | 17/20 [00:39<00:07,  2.49s/it]\u001b[A\n",
      "Feature Extraction:  90%|████████████████████▋  | 18/20 [00:39<00:03,  1.90s/it]\u001b[A\n",
      "Feature Extraction:  95%|█████████████████████▊ | 19/20 [00:40<00:01,  1.46s/it]\u001b[A\n",
      "Feature Extraction: 100%|███████████████████████| 20/20 [00:40<00:00,  2.02s/it]\u001b[A\n",
      " 11%|████▋                                       | 2/19 [01:35<13:29, 47.61s/it]\n",
      "Feature Extraction:   0%|                                | 0/20 [00:00<?, ?it/s]\u001b[A\n",
      "Feature Extraction:   5%|█▏                      | 1/20 [00:08<02:37,  8.27s/it]\u001b[A\n",
      "Feature Extraction:  10%|██▍                     | 2/20 [00:08<01:05,  3.66s/it]\u001b[A\n",
      "Feature Extraction:  15%|███▌                    | 3/20 [00:09<00:36,  2.15s/it]\u001b[A\n",
      "Feature Extraction:  20%|████▊                   | 4/20 [00:09<00:24,  1.54s/it]\u001b[A\n",
      "Feature Extraction:  25%|██████                  | 5/20 [00:19<01:06,  4.45s/it]\u001b[A\n",
      "Feature Extraction:  30%|███████▏                | 6/20 [00:19<00:43,  3.10s/it]\u001b[A\n",
      "Feature Extraction:  35%|████████▍               | 7/20 [00:20<00:28,  2.18s/it]\u001b[A\n",
      "Feature Extraction:  40%|█████████▌              | 8/20 [00:20<00:18,  1.58s/it]\u001b[A\n",
      "Feature Extraction:  45%|██████████▊             | 9/20 [00:27<00:36,  3.32s/it]\u001b[A\n",
      "Feature Extraction:  50%|███████████▌           | 10/20 [00:29<00:29,  3.00s/it]\u001b[A\n",
      "Feature Extraction:  55%|████████████▋          | 11/20 [00:30<00:19,  2.18s/it]\u001b[A\n",
      "Feature Extraction:  60%|█████████████▊         | 12/20 [00:30<00:12,  1.60s/it]\u001b[A\n",
      "Feature Extraction:  65%|██████████████▉        | 13/20 [00:36<00:19,  2.85s/it]\u001b[A\n",
      "Feature Extraction:  70%|████████████████       | 14/20 [00:39<00:17,  2.96s/it]\u001b[A\n",
      "Feature Extraction:  75%|█████████████████▎     | 15/20 [00:39<00:11,  2.25s/it]\u001b[A\n",
      "Feature Extraction:  80%|██████████████████▍    | 16/20 [00:40<00:07,  1.79s/it]\u001b[A\n",
      "Feature Extraction:  85%|███████████████████▌   | 17/20 [00:45<00:07,  2.66s/it]\u001b[A\n",
      "Feature Extraction:  90%|████████████████████▋  | 18/20 [00:47<00:05,  2.58s/it]\u001b[A\n",
      "Feature Extraction:  95%|█████████████████████▊ | 19/20 [00:48<00:01,  1.97s/it]\u001b[A\n",
      "Feature Extraction: 100%|███████████████████████| 20/20 [00:48<00:00,  2.42s/it]\u001b[A\n",
      " 16%|██████▉                                     | 3/19 [02:33<13:56, 52.26s/it]\n",
      "Feature Extraction:   0%|                                | 0/20 [00:00<?, ?it/s]\u001b[A\n",
      "Feature Extraction:   5%|█▏                      | 1/20 [00:09<03:01,  9.56s/it]\u001b[A\n",
      "Feature Extraction:  10%|██▍                     | 2/20 [00:09<01:14,  4.13s/it]\u001b[A\n",
      "Feature Extraction:  15%|███▌                    | 3/20 [00:10<00:40,  2.36s/it]\u001b[A\n",
      "Feature Extraction:  20%|████▊                   | 4/20 [00:10<00:24,  1.56s/it]\u001b[A\n",
      "Feature Extraction:  25%|██████                  | 5/20 [00:18<00:57,  3.81s/it]\u001b[A\n",
      "Feature Extraction:  30%|███████▏                | 6/20 [00:18<00:36,  2.63s/it]\u001b[A\n",
      "Feature Extraction:  35%|████████▍               | 7/20 [00:19<00:25,  1.99s/it]\u001b[A\n",
      "Feature Extraction:  40%|█████████▌              | 8/20 [00:19<00:17,  1.44s/it]\u001b[A\n",
      "Feature Extraction:  45%|██████████▊             | 9/20 [00:25<00:31,  2.90s/it]\u001b[A\n",
      "Feature Extraction:  50%|███████████▌           | 10/20 [00:26<00:22,  2.20s/it]\u001b[A\n",
      "Feature Extraction:  55%|████████████▋          | 11/20 [00:26<00:14,  1.62s/it]\u001b[A\n",
      "Feature Extraction:  60%|█████████████▊         | 12/20 [00:26<00:09,  1.22s/it]\u001b[A\n",
      "Feature Extraction:  65%|██████████████▉        | 13/20 [00:32<00:18,  2.62s/it]\u001b[A\n",
      "Feature Extraction:  70%|████████████████       | 14/20 [00:33<00:11,  1.99s/it]\u001b[A\n",
      "Feature Extraction:  75%|█████████████████▎     | 15/20 [00:33<00:07,  1.51s/it]\u001b[A\n",
      "Feature Extraction:  80%|██████████████████▍    | 16/20 [00:34<00:04,  1.21s/it]\u001b[A\n",
      "Feature Extraction:  85%|███████████████████▌   | 17/20 [00:40<00:08,  2.70s/it]\u001b[A\n",
      "Feature Extraction:  90%|████████████████████▋  | 18/20 [00:40<00:04,  2.04s/it]\u001b[A\n",
      "Feature Extraction:  95%|█████████████████████▊ | 19/20 [00:41<00:01,  1.55s/it]\u001b[A\n",
      "Feature Extraction: 100%|███████████████████████| 20/20 [00:41<00:00,  2.07s/it]\u001b[A\n",
      " 21%|█████████▎                                  | 4/19 [03:22<12:46, 51.12s/it]\n",
      "Feature Extraction:   0%|                                | 0/20 [00:00<?, ?it/s]\u001b[A\n",
      "Feature Extraction:   5%|█▏                      | 1/20 [00:08<02:34,  8.12s/it]\u001b[A\n",
      "Feature Extraction:  10%|██▍                     | 2/20 [00:08<01:03,  3.53s/it]\u001b[A\n",
      "Feature Extraction:  15%|███▌                    | 3/20 [00:08<00:34,  2.01s/it]\u001b[A\n",
      "Feature Extraction:  20%|████▊                   | 4/20 [00:09<00:21,  1.37s/it]\u001b[A\n",
      "Feature Extraction:  25%|██████                  | 5/20 [00:14<00:45,  3.01s/it]\u001b[A\n",
      "Feature Extraction:  30%|███████▏                | 6/20 [00:15<00:29,  2.12s/it]\u001b[A\n",
      "Feature Extraction:  35%|████████▍               | 7/20 [00:16<00:22,  1.70s/it]\u001b[A\n"
     ]
    },
    {
     "name": "stderr",
     "output_type": "stream",
     "text": [
      "Feature Extraction:  40%|█████████▌              | 8/20 [00:16<00:15,  1.27s/it]\u001b[A\n",
      "Feature Extraction:  45%|██████████▊             | 9/20 [00:23<00:33,  3.02s/it]\u001b[A\n",
      "Feature Extraction:  50%|███████████▌           | 10/20 [00:24<00:23,  2.30s/it]\u001b[A\n",
      "Feature Extraction:  55%|████████████▋          | 11/20 [00:24<00:15,  1.71s/it]\u001b[A\n",
      "Feature Extraction:  60%|█████████████▊         | 12/20 [00:24<00:10,  1.29s/it]\u001b[A\n",
      "Feature Extraction:  65%|██████████████▉        | 13/20 [00:31<00:19,  2.84s/it]\u001b[A\n",
      "Feature Extraction:  70%|████████████████       | 14/20 [00:32<00:13,  2.31s/it]\u001b[A\n",
      "Feature Extraction:  75%|█████████████████▎     | 15/20 [00:32<00:08,  1.71s/it]\u001b[A\n",
      "Feature Extraction:  80%|██████████████████▍    | 16/20 [00:32<00:05,  1.31s/it]\u001b[A\n",
      "Feature Extraction:  85%|███████████████████▌   | 17/20 [00:39<00:08,  2.73s/it]\u001b[A\n",
      "Feature Extraction:  90%|████████████████████▋  | 18/20 [00:40<00:04,  2.27s/it]\u001b[A\n",
      "Feature Extraction:  95%|█████████████████████▊ | 19/20 [00:40<00:01,  1.64s/it]\u001b[A\n",
      "Feature Extraction: 100%|███████████████████████| 20/20 [00:40<00:00,  2.03s/it]\u001b[A\n",
      " 26%|███████████▌                                | 5/19 [04:12<11:48, 50.62s/it]\n",
      "Feature Extraction:   0%|                                | 0/20 [00:00<?, ?it/s]\u001b[A\n",
      "Feature Extraction:   5%|█▏                      | 1/20 [00:12<03:49, 12.06s/it]\u001b[A\n",
      "Feature Extraction:  10%|██▍                     | 2/20 [00:12<01:35,  5.31s/it]\u001b[A\n",
      "Feature Extraction:  15%|███▌                    | 3/20 [00:12<00:51,  3.03s/it]\u001b[A\n",
      "Feature Extraction:  20%|████▊                   | 4/20 [00:13<00:33,  2.09s/it]\u001b[A\n",
      "Feature Extraction:  25%|██████                  | 5/20 [00:22<01:05,  4.37s/it]\u001b[A\n",
      "Feature Extraction:  30%|███████▏                | 6/20 [00:23<00:45,  3.28s/it]\u001b[A\n",
      "Feature Extraction:  35%|████████▍               | 7/20 [00:24<00:36,  2.79s/it]\u001b[A\n",
      "Feature Extraction:  40%|█████████▌              | 8/20 [00:25<00:26,  2.19s/it]\u001b[A\n",
      "Feature Extraction:  45%|██████████▊             | 9/20 [00:34<00:45,  4.18s/it]\u001b[A\n",
      "Feature Extraction:  50%|███████████▌           | 10/20 [00:36<00:34,  3.44s/it]\u001b[A\n",
      "Feature Extraction:  55%|████████████▋          | 11/20 [00:36<00:22,  2.48s/it]\u001b[A\n",
      "Feature Extraction:  60%|█████████████▊         | 12/20 [00:36<00:14,  1.79s/it]\u001b[A\n",
      "Feature Extraction:  65%|██████████████▉        | 13/20 [00:43<00:23,  3.29s/it]\u001b[A\n",
      "Feature Extraction:  70%|████████████████       | 14/20 [00:46<00:20,  3.35s/it]\u001b[A\n",
      "Feature Extraction:  75%|█████████████████▎     | 15/20 [00:47<00:12,  2.49s/it]\u001b[A\n",
      "Feature Extraction:  80%|██████████████████▍    | 16/20 [00:47<00:07,  1.80s/it]\u001b[A\n",
      "Feature Extraction:  85%|███████████████████▌   | 17/20 [00:52<00:08,  2.85s/it]\u001b[A\n",
      "Feature Extraction:  90%|████████████████████▋  | 18/20 [00:56<00:05,  2.93s/it]\u001b[A\n",
      "Feature Extraction:  95%|█████████████████████▊ | 19/20 [00:56<00:02,  2.16s/it]\u001b[A\n",
      "Feature Extraction: 100%|███████████████████████| 20/20 [00:56<00:00,  2.83s/it]\u001b[A\n",
      " 32%|█████████████▉                              | 6/19 [05:25<12:36, 58.22s/it]\n",
      "Feature Extraction:   0%|                                | 0/20 [00:00<?, ?it/s]\u001b[A\n",
      "Feature Extraction:   5%|█▏                      | 1/20 [00:11<03:41, 11.66s/it]\u001b[A\n",
      "Feature Extraction:  10%|██▍                     | 2/20 [00:12<01:34,  5.23s/it]\u001b[A\n",
      "Feature Extraction:  15%|███▌                    | 3/20 [00:12<00:50,  2.98s/it]\u001b[A\n",
      "Feature Extraction:  20%|████▊                   | 4/20 [00:12<00:30,  1.92s/it]\u001b[A\n",
      "Feature Extraction:  25%|██████                  | 5/20 [00:18<00:47,  3.19s/it]\u001b[A\n",
      "Feature Extraction:  30%|███████▏                | 6/20 [00:19<00:33,  2.42s/it]\u001b[A\n",
      "Feature Extraction:  35%|████████▍               | 7/20 [00:20<00:26,  2.03s/it]\u001b[A\n",
      "Feature Extraction:  40%|█████████▌              | 8/20 [00:20<00:17,  1.47s/it]\u001b[A\n",
      "Feature Extraction:  45%|██████████▊             | 9/20 [00:25<00:27,  2.52s/it]\u001b[A\n",
      "Feature Extraction:  50%|███████████▌           | 10/20 [00:26<00:20,  2.01s/it]\u001b[A\n",
      "Feature Extraction:  55%|████████████▋          | 11/20 [00:27<00:15,  1.68s/it]\u001b[A\n",
      "Feature Extraction:  60%|█████████████▊         | 12/20 [00:28<00:11,  1.41s/it]\u001b[A\n",
      "Feature Extraction:  65%|██████████████▉        | 13/20 [00:32<00:16,  2.37s/it]\u001b[A\n",
      "Feature Extraction:  70%|████████████████       | 14/20 [00:33<00:11,  1.99s/it]\u001b[A\n",
      "Feature Extraction:  75%|█████████████████▎     | 15/20 [00:34<00:07,  1.56s/it]\u001b[A\n",
      "Feature Extraction:  80%|██████████████████▍    | 16/20 [00:35<00:05,  1.45s/it]\u001b[A\n",
      "Feature Extraction:  85%|███████████████████▌   | 17/20 [00:40<00:06,  2.32s/it]\u001b[A\n",
      "Feature Extraction:  90%|████████████████████▋  | 18/20 [00:41<00:03,  1.94s/it]\u001b[A\n",
      "Feature Extraction:  95%|█████████████████████▊ | 19/20 [00:41<00:01,  1.48s/it]\u001b[A\n",
      "Feature Extraction: 100%|███████████████████████| 20/20 [00:42<00:00,  2.11s/it]\u001b[A\n",
      " 37%|████████████████▏                           | 7/19 [06:15<11:07, 55.64s/it]\n",
      "Feature Extraction:   0%|                                | 0/20 [00:00<?, ?it/s]\u001b[A\n",
      "Feature Extraction:   5%|█▏                      | 1/20 [00:08<02:35,  8.18s/it]\u001b[A\n",
      "Feature Extraction:  10%|██▍                     | 2/20 [00:08<01:03,  3.51s/it]\u001b[A\n",
      "Feature Extraction:  15%|███▌                    | 3/20 [00:08<00:34,  2.00s/it]\u001b[A\n",
      "Feature Extraction:  20%|████▊                   | 4/20 [00:09<00:21,  1.37s/it]\u001b[A\n",
      "Feature Extraction:  25%|██████                  | 5/20 [00:15<00:46,  3.11s/it]\u001b[A\n",
      "Feature Extraction:  30%|███████▏                | 6/20 [00:15<00:30,  2.16s/it]\u001b[A\n",
      "Feature Extraction:  35%|████████▍               | 7/20 [00:16<00:21,  1.62s/it]\u001b[A\n",
      "Feature Extraction:  40%|█████████▌              | 8/20 [00:16<00:14,  1.19s/it]\u001b[A\n",
      "Feature Extraction:  45%|██████████▊             | 9/20 [00:22<00:30,  2.76s/it]\u001b[A\n",
      "Feature Extraction:  50%|███████████▌           | 10/20 [00:22<00:19,  1.99s/it]\u001b[A\n",
      "Feature Extraction:  55%|████████████▋          | 11/20 [00:23<00:14,  1.58s/it]\u001b[A\n",
      "Feature Extraction:  60%|█████████████▊         | 12/20 [00:23<00:09,  1.18s/it]\u001b[A\n",
      "Feature Extraction:  65%|██████████████▉        | 13/20 [00:29<00:18,  2.62s/it]\u001b[A\n",
      "Feature Extraction:  70%|████████████████       | 14/20 [00:30<00:12,  2.01s/it]\u001b[A\n",
      "Feature Extraction:  75%|█████████████████▎     | 15/20 [00:30<00:07,  1.50s/it]\u001b[A\n",
      "Feature Extraction:  80%|██████████████████▍    | 16/20 [00:31<00:04,  1.21s/it]\u001b[A\n",
      "Feature Extraction:  85%|███████████████████▌   | 17/20 [00:36<00:07,  2.55s/it]\u001b[A\n",
      "Feature Extraction:  90%|████████████████████▋  | 18/20 [00:37<00:03,  1.93s/it]\u001b[A\n",
      "Feature Extraction:  95%|█████████████████████▊ | 19/20 [00:37<00:01,  1.43s/it]\u001b[A\n",
      "Feature Extraction: 100%|███████████████████████| 20/20 [00:37<00:00,  1.88s/it]\u001b[A\n",
      " 42%|██████████████████▌                         | 8/19 [07:00<09:34, 52.19s/it]\n",
      "Feature Extraction:   0%|                                | 0/20 [00:00<?, ?it/s]\u001b[A\n",
      "Feature Extraction:   5%|█▏                      | 1/20 [00:08<02:37,  8.29s/it]\u001b[A\n",
      "Feature Extraction:  10%|██▍                     | 2/20 [00:08<01:04,  3.59s/it]\u001b[A\n",
      "Feature Extraction:  15%|███▌                    | 3/20 [00:08<00:34,  2.06s/it]\u001b[A\n",
      "Feature Extraction:  20%|████▊                   | 4/20 [00:09<00:22,  1.43s/it]\u001b[A\n",
      "Feature Extraction:  25%|██████                  | 5/20 [00:15<00:47,  3.19s/it]\u001b[A\n",
      "Feature Extraction:  30%|███████▏                | 6/20 [00:15<00:30,  2.18s/it]\u001b[A\n",
      "Feature Extraction:  35%|████████▍               | 7/20 [00:16<00:22,  1.76s/it]\u001b[A\n",
      "Feature Extraction:  40%|█████████▌              | 8/20 [00:17<00:16,  1.39s/it]\u001b[A\n",
      "Feature Extraction:  45%|██████████▊             | 9/20 [00:23<00:32,  2.97s/it]\u001b[A\n",
      "Feature Extraction:  50%|███████████▌           | 10/20 [00:24<00:22,  2.26s/it]\u001b[A\n",
      "Feature Extraction:  55%|████████████▋          | 11/20 [00:24<00:14,  1.66s/it]\u001b[A\n",
      "Feature Extraction:  60%|█████████████▊         | 12/20 [00:25<00:10,  1.30s/it]\u001b[A\n",
      "Feature Extraction:  65%|██████████████▉        | 13/20 [00:31<00:18,  2.67s/it]\u001b[A\n",
      "Feature Extraction:  70%|████████████████       | 14/20 [00:32<00:13,  2.18s/it]\u001b[A\n",
      "Feature Extraction:  75%|█████████████████▎     | 15/20 [00:32<00:07,  1.60s/it]\u001b[A\n",
      "Feature Extraction:  80%|██████████████████▍    | 16/20 [00:32<00:05,  1.30s/it]\u001b[A\n"
     ]
    },
    {
     "name": "stderr",
     "output_type": "stream",
     "text": [
      "Feature Extraction:  85%|███████████████████▌   | 17/20 [00:38<00:07,  2.57s/it]\u001b[A\n",
      "Feature Extraction:  90%|████████████████████▋  | 18/20 [00:39<00:04,  2.10s/it]\u001b[A\n",
      "Feature Extraction:  95%|█████████████████████▊ | 19/20 [00:39<00:01,  1.56s/it]\u001b[A\n",
      "Feature Extraction: 100%|███████████████████████| 20/20 [00:39<00:00,  1.99s/it]\u001b[A\n",
      " 47%|████████████████████▊                       | 9/19 [07:47<08:24, 50.49s/it]\n",
      "Feature Extraction:   0%|                                | 0/20 [00:00<?, ?it/s]\u001b[A\n",
      "Feature Extraction:   5%|█▏                      | 1/20 [00:08<02:44,  8.66s/it]\u001b[A\n",
      "Feature Extraction:  10%|██▍                     | 2/20 [00:08<01:07,  3.73s/it]\u001b[A\n",
      "Feature Extraction:  15%|███▌                    | 3/20 [00:09<00:36,  2.14s/it]\u001b[A\n",
      "Feature Extraction:  20%|████▊                   | 4/20 [00:09<00:22,  1.39s/it]\u001b[A\n",
      "Feature Extraction:  25%|██████                  | 5/20 [00:16<00:51,  3.41s/it]\u001b[A\n",
      "Feature Extraction:  30%|███████▏                | 6/20 [00:16<00:33,  2.36s/it]\u001b[A\n",
      "Feature Extraction:  35%|████████▍               | 7/20 [00:17<00:24,  1.88s/it]\u001b[A\n",
      "Feature Extraction:  40%|█████████▌              | 8/20 [00:17<00:16,  1.38s/it]\u001b[A\n",
      "Feature Extraction:  45%|██████████▊             | 9/20 [00:24<00:32,  2.98s/it]\u001b[A\n",
      "Feature Extraction:  50%|███████████▌           | 10/20 [00:24<00:21,  2.17s/it]\u001b[A\n",
      "Feature Extraction:  55%|████████████▋          | 11/20 [00:25<00:15,  1.67s/it]\u001b[A\n",
      "Feature Extraction:  60%|█████████████▊         | 12/20 [00:25<00:10,  1.34s/it]\u001b[A\n",
      "Feature Extraction:  65%|██████████████▉        | 13/20 [00:31<00:18,  2.64s/it]\u001b[A\n",
      "Feature Extraction:  70%|████████████████       | 14/20 [00:32<00:12,  2.07s/it]\u001b[A\n",
      "Feature Extraction:  75%|█████████████████▎     | 15/20 [00:32<00:07,  1.56s/it]\u001b[A\n",
      "Feature Extraction:  80%|██████████████████▍    | 16/20 [00:33<00:05,  1.34s/it]\u001b[A\n",
      "Feature Extraction:  85%|███████████████████▌   | 17/20 [00:38<00:07,  2.47s/it]\u001b[A\n",
      "Feature Extraction:  90%|████████████████████▋  | 18/20 [00:39<00:03,  1.93s/it]\u001b[A\n",
      "Feature Extraction:  95%|█████████████████████▊ | 19/20 [00:39<00:01,  1.47s/it]\u001b[A\n",
      "Feature Extraction: 100%|███████████████████████| 20/20 [00:40<00:00,  2.01s/it]\u001b[A\n",
      " 53%|██████████████████████▋                    | 10/19 [08:34<07:25, 49.52s/it]\n",
      "Feature Extraction:   0%|                                | 0/20 [00:00<?, ?it/s]\u001b[A\n",
      "Feature Extraction:   5%|█▏                      | 1/20 [00:08<02:48,  8.86s/it]\u001b[A\n",
      "Feature Extraction:  10%|██▍                     | 2/20 [00:09<01:09,  3.88s/it]\u001b[A\n",
      "Feature Extraction:  15%|███▌                    | 3/20 [00:09<00:38,  2.25s/it]\u001b[A\n",
      "Feature Extraction:  20%|████▊                   | 4/20 [00:09<00:23,  1.49s/it]\u001b[A\n",
      "Feature Extraction:  25%|██████                  | 5/20 [00:16<00:50,  3.37s/it]\u001b[A\n",
      "Feature Extraction:  30%|███████▏                | 6/20 [00:16<00:33,  2.36s/it]\u001b[A\n",
      "Feature Extraction:  35%|████████▍               | 7/20 [00:17<00:23,  1.83s/it]\u001b[A\n",
      "Feature Extraction:  40%|█████████▌              | 8/20 [00:17<00:15,  1.33s/it]\u001b[A\n",
      "Feature Extraction:  45%|██████████▊             | 9/20 [00:24<00:33,  3.04s/it]\u001b[A\n",
      "Feature Extraction:  50%|███████████▌           | 10/20 [00:25<00:22,  2.27s/it]\u001b[A\n",
      "Feature Extraction:  55%|████████████▋          | 11/20 [00:25<00:15,  1.74s/it]\u001b[A\n",
      "Feature Extraction:  60%|█████████████▊         | 12/20 [00:26<00:11,  1.39s/it]\u001b[A\n",
      "Feature Extraction:  65%|██████████████▉        | 13/20 [00:32<00:20,  2.93s/it]\u001b[A\n",
      "Feature Extraction:  70%|████████████████       | 14/20 [00:33<00:14,  2.36s/it]\u001b[A\n",
      "Feature Extraction:  75%|█████████████████▎     | 15/20 [00:34<00:08,  1.73s/it]\u001b[A\n",
      "Feature Extraction:  80%|██████████████████▍    | 16/20 [00:34<00:05,  1.41s/it]\u001b[A\n",
      "Feature Extraction:  85%|███████████████████▌   | 17/20 [00:41<00:09,  3.00s/it]\u001b[A\n",
      "Feature Extraction:  90%|████████████████████▋  | 18/20 [00:42<00:04,  2.32s/it]\u001b[A\n",
      "Feature Extraction:  95%|█████████████████████▊ | 19/20 [00:42<00:01,  1.68s/it]\u001b[A\n",
      "Feature Extraction: 100%|███████████████████████| 20/20 [00:42<00:00,  2.14s/it]\u001b[A\n",
      " 58%|████████████████████████▉                  | 11/19 [09:24<06:37, 49.72s/it]\n",
      "Feature Extraction:   0%|                                | 0/20 [00:00<?, ?it/s]\u001b[A\n",
      "Feature Extraction:   5%|█▏                      | 1/20 [00:08<02:32,  8.04s/it]\u001b[A\n",
      "Feature Extraction:  10%|██▍                     | 2/20 [00:08<01:01,  3.43s/it]\u001b[A\n",
      "Feature Extraction:  15%|███▌                    | 3/20 [00:08<00:33,  1.96s/it]\u001b[A\n",
      "Feature Extraction:  20%|████▊                   | 4/20 [00:08<00:20,  1.29s/it]\u001b[A\n",
      "Feature Extraction:  25%|██████                  | 5/20 [00:16<00:51,  3.46s/it]\u001b[A\n",
      "Feature Extraction:  30%|███████▏                | 6/20 [00:16<00:33,  2.38s/it]\u001b[A\n",
      "Feature Extraction:  35%|████████▍               | 7/20 [00:16<00:22,  1.75s/it]\u001b[A\n",
      "Feature Extraction:  40%|█████████▌              | 8/20 [00:17<00:15,  1.28s/it]\u001b[A\n",
      "Feature Extraction:  45%|██████████▊             | 9/20 [00:23<00:33,  3.03s/it]\u001b[A\n",
      "Feature Extraction:  50%|███████████▌           | 10/20 [00:24<00:21,  2.19s/it]\u001b[A\n",
      "Feature Extraction:  55%|████████████▋          | 11/20 [00:24<00:14,  1.62s/it]\u001b[A\n",
      "Feature Extraction:  60%|█████████████▊         | 12/20 [00:25<00:10,  1.31s/it]\u001b[A\n",
      "Feature Extraction:  65%|██████████████▉        | 13/20 [00:31<00:20,  2.89s/it]\u001b[A\n",
      "Feature Extraction:  70%|████████████████       | 14/20 [00:32<00:13,  2.24s/it]\u001b[A\n",
      "Feature Extraction:  75%|█████████████████▎     | 15/20 [00:32<00:08,  1.66s/it]\u001b[A\n",
      "Feature Extraction:  80%|██████████████████▍    | 16/20 [00:33<00:05,  1.35s/it]\u001b[A\n",
      "Feature Extraction:  85%|███████████████████▌   | 17/20 [00:39<00:08,  2.89s/it]\u001b[A\n",
      "Feature Extraction:  90%|████████████████████▋  | 18/20 [00:40<00:04,  2.22s/it]\u001b[A\n",
      "Feature Extraction:  95%|█████████████████████▊ | 19/20 [00:40<00:01,  1.62s/it]\u001b[A\n",
      "Feature Extraction: 100%|███████████████████████| 20/20 [00:40<00:00,  2.04s/it]\u001b[A\n",
      " 63%|███████████████████████████▏               | 12/19 [10:12<05:44, 49.26s/it]\n",
      "Feature Extraction:   0%|                                | 0/20 [00:00<?, ?it/s]\u001b[A\n",
      "Feature Extraction:   5%|█▏                      | 1/20 [00:10<03:23, 10.74s/it]\u001b[A\n",
      "Feature Extraction:  10%|██▍                     | 2/20 [00:11<01:26,  4.80s/it]\u001b[A\n",
      "Feature Extraction:  15%|███▌                    | 3/20 [00:11<00:47,  2.81s/it]\u001b[A\n",
      "Feature Extraction:  20%|████▊                   | 4/20 [00:12<00:30,  1.88s/it]\u001b[A\n",
      "Feature Extraction:  25%|██████                  | 5/20 [00:20<01:02,  4.15s/it]\u001b[A\n",
      "Feature Extraction:  30%|███████▏                | 6/20 [00:21<00:44,  3.15s/it]\u001b[A\n",
      "Feature Extraction:  35%|████████▍               | 7/20 [00:21<00:28,  2.22s/it]\u001b[A\n",
      "Feature Extraction:  40%|█████████▌              | 8/20 [00:22<00:19,  1.62s/it]\u001b[A\n",
      "Feature Extraction:  45%|██████████▊             | 9/20 [00:30<00:40,  3.67s/it]\u001b[A\n",
      "Feature Extraction:  50%|███████████▌           | 10/20 [00:31<00:29,  2.91s/it]\u001b[A\n",
      "Feature Extraction:  55%|████████████▋          | 11/20 [00:32<00:19,  2.15s/it]\u001b[A\n",
      "Feature Extraction:  60%|█████████████▊         | 12/20 [00:32<00:13,  1.73s/it]\u001b[A\n",
      "Feature Extraction:  65%|██████████████▉        | 13/20 [00:39<00:21,  3.11s/it]\u001b[A\n",
      "Feature Extraction:  70%|████████████████       | 14/20 [00:41<00:16,  2.72s/it]\u001b[A\n",
      "Feature Extraction:  75%|█████████████████▎     | 15/20 [00:41<00:10,  2.03s/it]\u001b[A\n",
      "Feature Extraction:  80%|██████████████████▍    | 16/20 [00:42<00:06,  1.70s/it]\u001b[A\n",
      "Feature Extraction:  85%|███████████████████▌   | 17/20 [00:49<00:09,  3.30s/it]\u001b[A\n",
      "Feature Extraction:  90%|████████████████████▋  | 18/20 [00:50<00:05,  2.66s/it]\u001b[A\n",
      "Feature Extraction:  95%|█████████████████████▊ | 19/20 [00:50<00:01,  2.00s/it]\u001b[A\n",
      "Feature Extraction: 100%|███████████████████████| 20/20 [00:51<00:00,  2.57s/it]\u001b[A\n",
      " 68%|█████████████████████████████▍             | 13/19 [11:14<05:18, 53.13s/it]\n",
      "Feature Extraction:   0%|                                | 0/20 [00:00<?, ?it/s]\u001b[A\n",
      "Feature Extraction:   5%|█▏                      | 1/20 [00:08<02:40,  8.42s/it]\u001b[A\n",
      "Feature Extraction:  10%|██▍                     | 2/20 [00:08<01:06,  3.67s/it]\u001b[A\n",
      "Feature Extraction:  15%|███▌                    | 3/20 [00:08<00:35,  2.09s/it]\u001b[A\n"
     ]
    },
    {
     "name": "stderr",
     "output_type": "stream",
     "text": [
      "Feature Extraction:  20%|████▊                   | 4/20 [00:09<00:21,  1.37s/it]\u001b[A\n",
      "Feature Extraction:  25%|██████                  | 5/20 [00:15<00:47,  3.15s/it]\u001b[A\n",
      "Feature Extraction:  30%|███████▏                | 6/20 [00:15<00:31,  2.22s/it]\u001b[A\n",
      "Feature Extraction:  35%|████████▍               | 7/20 [00:16<00:21,  1.67s/it]\u001b[A\n",
      "Feature Extraction:  40%|█████████▌              | 8/20 [00:16<00:14,  1.22s/it]\u001b[A\n",
      "Feature Extraction:  45%|██████████▊             | 9/20 [00:22<00:30,  2.74s/it]\u001b[A\n",
      "Feature Extraction:  50%|███████████▌           | 10/20 [00:23<00:20,  2.00s/it]\u001b[A\n",
      "Feature Extraction:  55%|████████████▋          | 11/20 [00:23<00:13,  1.47s/it]\u001b[A\n",
      "Feature Extraction:  60%|█████████████▊         | 12/20 [00:24<00:09,  1.20s/it]\u001b[A\n",
      "Feature Extraction:  65%|██████████████▉        | 13/20 [00:29<00:18,  2.60s/it]\u001b[A\n",
      "Feature Extraction:  70%|████████████████       | 14/20 [00:30<00:12,  2.05s/it]\u001b[A\n",
      "Feature Extraction:  75%|█████████████████▎     | 15/20 [00:30<00:07,  1.51s/it]\u001b[A\n",
      "Feature Extraction:  80%|██████████████████▍    | 16/20 [00:31<00:04,  1.22s/it]\u001b[A\n",
      "Feature Extraction:  85%|███████████████████▌   | 17/20 [00:37<00:07,  2.52s/it]\u001b[A\n",
      "Feature Extraction:  90%|████████████████████▋  | 18/20 [00:37<00:03,  1.98s/it]\u001b[A\n",
      "Feature Extraction:  95%|█████████████████████▊ | 19/20 [00:37<00:01,  1.45s/it]\u001b[A\n",
      "Feature Extraction: 100%|███████████████████████| 20/20 [00:38<00:00,  1.90s/it]\u001b[A\n",
      " 74%|███████████████████████████████▋           | 14/19 [12:00<04:13, 50.70s/it]\n",
      "Feature Extraction:   0%|                                | 0/20 [00:00<?, ?it/s]\u001b[A\n",
      "Feature Extraction:   5%|█▏                      | 1/20 [00:08<02:38,  8.35s/it]\u001b[A\n",
      "Feature Extraction:  10%|██▍                     | 2/20 [00:08<01:04,  3.58s/it]\u001b[A\n",
      "Feature Extraction:  15%|███▌                    | 3/20 [00:08<00:34,  2.04s/it]\u001b[A\n",
      "Feature Extraction:  20%|████▊                   | 4/20 [00:09<00:21,  1.34s/it]\u001b[A\n",
      "Feature Extraction:  25%|██████                  | 5/20 [00:15<00:46,  3.09s/it]\u001b[A\n",
      "Feature Extraction:  30%|███████▏                | 6/20 [00:15<00:30,  2.19s/it]\u001b[A\n",
      "Feature Extraction:  35%|████████▍               | 7/20 [00:16<00:21,  1.66s/it]\u001b[A\n",
      "Feature Extraction:  40%|█████████▌              | 8/20 [00:16<00:14,  1.22s/it]\u001b[A\n",
      "Feature Extraction:  45%|██████████▊             | 9/20 [00:22<00:30,  2.74s/it]\u001b[A\n",
      "Feature Extraction:  50%|███████████▌           | 10/20 [00:23<00:20,  2.02s/it]\u001b[A\n",
      "Feature Extraction:  55%|████████████▋          | 11/20 [00:23<00:13,  1.48s/it]\u001b[A\n",
      "Feature Extraction:  60%|█████████████▊         | 12/20 [00:23<00:09,  1.20s/it]\u001b[A\n",
      "Feature Extraction:  65%|██████████████▉        | 13/20 [00:29<00:17,  2.56s/it]\u001b[A\n",
      "Feature Extraction:  70%|████████████████       | 14/20 [00:30<00:12,  2.02s/it]\u001b[A\n",
      "Feature Extraction:  75%|█████████████████▎     | 15/20 [00:30<00:07,  1.49s/it]\u001b[A\n",
      "Feature Extraction:  80%|██████████████████▍    | 16/20 [00:31<00:04,  1.18s/it]\u001b[A\n",
      "Feature Extraction:  85%|███████████████████▌   | 17/20 [00:36<00:07,  2.53s/it]\u001b[A\n",
      "Feature Extraction:  90%|████████████████████▋  | 18/20 [00:37<00:03,  1.98s/it]\u001b[A\n",
      "Feature Extraction:  95%|█████████████████████▊ | 19/20 [00:37<00:01,  1.47s/it]\u001b[A\n",
      "Feature Extraction: 100%|███████████████████████| 20/20 [00:37<00:00,  1.89s/it]\u001b[A\n",
      " 79%|█████████████████████████████████▉         | 15/19 [12:44<03:15, 48.93s/it]\n",
      "Feature Extraction:   0%|                                | 0/20 [00:00<?, ?it/s]\u001b[A\n",
      "Feature Extraction:   5%|█▏                      | 1/20 [00:09<03:00,  9.48s/it]\u001b[A\n",
      "Feature Extraction:  10%|██▍                     | 2/20 [00:09<01:13,  4.08s/it]\u001b[A\n",
      "Feature Extraction:  15%|███▌                    | 3/20 [00:10<00:39,  2.32s/it]\u001b[A\n",
      "Feature Extraction:  20%|████▊                   | 4/20 [00:10<00:24,  1.52s/it]\u001b[A\n",
      "Feature Extraction:  25%|██████                  | 5/20 [00:16<00:47,  3.19s/it]\u001b[A\n",
      "Feature Extraction:  30%|███████▏                | 6/20 [00:16<00:31,  2.26s/it]\u001b[A\n",
      "Feature Extraction:  35%|████████▍               | 7/20 [00:17<00:21,  1.68s/it]\u001b[A\n",
      "Feature Extraction:  40%|█████████▌              | 8/20 [00:17<00:14,  1.22s/it]\u001b[A\n",
      "Feature Extraction:  45%|██████████▊             | 9/20 [00:23<00:30,  2.78s/it]\u001b[A\n",
      "Feature Extraction:  50%|███████████▌           | 10/20 [00:24<00:20,  2.07s/it]\u001b[A\n",
      "Feature Extraction:  55%|████████████▋          | 11/20 [00:24<00:13,  1.54s/it]\u001b[A\n",
      "Feature Extraction:  60%|█████████████▊         | 12/20 [00:25<00:10,  1.26s/it]\u001b[A\n",
      "Feature Extraction:  65%|██████████████▉        | 13/20 [00:31<00:18,  2.64s/it]\u001b[A\n",
      "Feature Extraction:  70%|████████████████       | 14/20 [00:31<00:12,  2.04s/it]\u001b[A\n",
      "Feature Extraction:  75%|█████████████████▎     | 15/20 [00:31<00:07,  1.50s/it]\u001b[A\n",
      "Feature Extraction:  80%|██████████████████▍    | 16/20 [00:32<00:04,  1.24s/it]\u001b[A\n",
      "Feature Extraction:  85%|███████████████████▌   | 17/20 [00:38<00:07,  2.59s/it]\u001b[A\n",
      "Feature Extraction:  90%|████████████████████▋  | 18/20 [00:38<00:04,  2.01s/it]\u001b[A\n",
      "Feature Extraction:  95%|█████████████████████▊ | 19/20 [00:39<00:01,  1.47s/it]\u001b[A\n",
      "Feature Extraction: 100%|███████████████████████| 20/20 [00:39<00:00,  1.97s/it]\u001b[A\n",
      " 84%|████████████████████████████████████▏      | 16/19 [13:31<02:24, 48.10s/it]\n",
      "Feature Extraction:   0%|                                | 0/20 [00:00<?, ?it/s]\u001b[A\n",
      "Feature Extraction:   5%|█▏                      | 1/20 [00:08<02:36,  8.22s/it]\u001b[A\n",
      "Feature Extraction:  10%|██▍                     | 2/20 [00:08<01:03,  3.54s/it]\u001b[A\n",
      "Feature Extraction:  15%|███▌                    | 3/20 [00:08<00:34,  2.02s/it]\u001b[A\n",
      "Feature Extraction:  20%|████▊                   | 4/20 [00:08<00:21,  1.32s/it]\u001b[A\n",
      "Feature Extraction:  25%|██████                  | 5/20 [00:14<00:45,  3.03s/it]\u001b[A\n",
      "Feature Extraction:  30%|███████▏                | 6/20 [00:15<00:30,  2.15s/it]\u001b[A\n",
      "Feature Extraction:  35%|████████▍               | 7/20 [00:15<00:20,  1.58s/it]\u001b[A\n",
      "Feature Extraction:  40%|█████████▌              | 8/20 [00:16<00:13,  1.15s/it]\u001b[A\n",
      "Feature Extraction:  45%|██████████▊             | 9/20 [00:21<00:28,  2.64s/it]\u001b[A\n",
      "Feature Extraction:  50%|███████████▌           | 10/20 [00:22<00:19,  1.96s/it]\u001b[A\n",
      "Feature Extraction:  55%|████████████▋          | 11/20 [00:22<00:13,  1.48s/it]\u001b[A\n",
      "Feature Extraction:  60%|█████████████▊         | 12/20 [00:23<00:09,  1.19s/it]\u001b[A\n",
      "Feature Extraction:  65%|██████████████▉        | 13/20 [00:28<00:17,  2.53s/it]\u001b[A\n",
      "Feature Extraction:  70%|████████████████       | 14/20 [00:29<00:11,  1.96s/it]\u001b[A\n",
      "Feature Extraction:  75%|█████████████████▎     | 15/20 [00:29<00:07,  1.46s/it]\u001b[A\n",
      "Feature Extraction:  80%|██████████████████▍    | 16/20 [00:30<00:04,  1.22s/it]\u001b[A\n",
      "Feature Extraction:  85%|███████████████████▌   | 17/20 [00:35<00:07,  2.45s/it]\u001b[A\n",
      "Feature Extraction:  90%|████████████████████▋  | 18/20 [00:36<00:03,  1.92s/it]\u001b[A\n",
      "Feature Extraction:  95%|█████████████████████▊ | 19/20 [00:36<00:01,  1.41s/it]\u001b[A\n",
      "Feature Extraction: 100%|███████████████████████| 20/20 [00:36<00:00,  1.85s/it]\u001b[A\n",
      " 89%|██████████████████████████████████████▍    | 17/19 [14:15<01:33, 46.89s/it]\n",
      "Feature Extraction:   0%|                                | 0/20 [00:00<?, ?it/s]\u001b[A\n",
      "Feature Extraction:   5%|█▏                      | 1/20 [00:07<02:31,  7.98s/it]\u001b[A\n",
      "Feature Extraction:  10%|██▍                     | 2/20 [00:08<01:01,  3.41s/it]\u001b[A\n",
      "Feature Extraction:  15%|███▌                    | 3/20 [00:08<00:33,  1.95s/it]\u001b[A\n",
      "Feature Extraction:  20%|████▊                   | 4/20 [00:08<00:20,  1.28s/it]\u001b[A\n",
      "Feature Extraction:  25%|██████                  | 5/20 [00:14<00:45,  3.03s/it]\u001b[A\n",
      "Feature Extraction:  30%|███████▏                | 6/20 [00:15<00:29,  2.08s/it]\u001b[A\n",
      "Feature Extraction:  35%|████████▍               | 7/20 [00:15<00:20,  1.58s/it]\u001b[A\n",
      "Feature Extraction:  40%|█████████▌              | 8/20 [00:15<00:13,  1.15s/it]\u001b[A\n",
      "Feature Extraction:  45%|██████████▊             | 9/20 [00:21<00:29,  2.66s/it]\u001b[A\n",
      "Feature Extraction:  50%|███████████▌           | 10/20 [00:22<00:19,  1.93s/it]\u001b[A\n",
      "Feature Extraction:  55%|████████████▋          | 11/20 [00:22<00:12,  1.42s/it]\u001b[A\n",
      "Feature Extraction:  60%|█████████████▊         | 12/20 [00:22<00:09,  1.16s/it]\u001b[A\n"
     ]
    },
    {
     "name": "stderr",
     "output_type": "stream",
     "text": [
      "Feature Extraction:  65%|██████████████▉        | 13/20 [00:28<00:17,  2.56s/it]\u001b[A\n",
      "Feature Extraction:  70%|████████████████       | 14/20 [00:29<00:11,  1.97s/it]\u001b[A\n",
      "Feature Extraction:  75%|█████████████████▎     | 15/20 [00:29<00:07,  1.45s/it]\u001b[A\n",
      "Feature Extraction:  80%|██████████████████▍    | 16/20 [00:30<00:04,  1.18s/it]\u001b[A\n",
      "Feature Extraction:  85%|███████████████████▌   | 17/20 [00:35<00:07,  2.53s/it]\u001b[A\n",
      "Feature Extraction:  90%|████████████████████▋  | 18/20 [00:36<00:03,  1.95s/it]\u001b[A\n",
      "Feature Extraction:  95%|█████████████████████▊ | 19/20 [00:36<00:01,  1.42s/it]\u001b[A\n",
      "Feature Extraction: 100%|███████████████████████| 20/20 [00:36<00:00,  1.84s/it]\u001b[A\n",
      " 95%|████████████████████████████████████████▋  | 18/19 [14:58<00:45, 45.87s/it]\n",
      "Feature Extraction:   0%|                                | 0/20 [00:00<?, ?it/s]\u001b[A\n",
      "Feature Extraction:   5%|█▏                      | 1/20 [00:08<02:33,  8.06s/it]\u001b[A\n",
      "Feature Extraction:  10%|██▍                     | 2/20 [00:08<01:02,  3.46s/it]\u001b[A\n",
      "Feature Extraction:  15%|███▌                    | 3/20 [00:08<00:33,  1.97s/it]\u001b[A\n",
      "Feature Extraction:  20%|████▊                   | 4/20 [00:08<00:20,  1.28s/it]\u001b[A\n",
      "Feature Extraction:  25%|██████                  | 5/20 [00:14<00:45,  3.04s/it]\u001b[A\n",
      "Feature Extraction:  30%|███████▏                | 6/20 [00:15<00:30,  2.15s/it]\u001b[A\n",
      "Feature Extraction:  35%|████████▍               | 7/20 [00:15<00:20,  1.58s/it]\u001b[A\n",
      "Feature Extraction:  40%|█████████▌              | 8/20 [00:16<00:14,  1.20s/it]\u001b[A\n",
      "Feature Extraction:  45%|██████████▊             | 9/20 [00:21<00:29,  2.66s/it]\u001b[A\n",
      "Feature Extraction:  50%|███████████▌           | 10/20 [00:22<00:19,  1.93s/it]\u001b[A\n",
      "Feature Extraction:  55%|████████████▋          | 11/20 [00:22<00:12,  1.41s/it]\u001b[A\n",
      "Feature Extraction:  60%|█████████████▊         | 12/20 [00:23<00:09,  1.13s/it]\u001b[A\n",
      "Feature Extraction:  65%|██████████████▉        | 13/20 [00:28<00:18,  2.58s/it]\u001b[A\n",
      "Feature Extraction:  70%|████████████████       | 14/20 [00:29<00:11,  1.96s/it]\u001b[A\n",
      "Feature Extraction:  75%|█████████████████▎     | 15/20 [00:29<00:07,  1.44s/it]\u001b[A\n",
      "Feature Extraction:  80%|██████████████████▍    | 16/20 [00:30<00:04,  1.17s/it]\u001b[A\n",
      "Feature Extraction:  85%|███████████████████▌   | 17/20 [00:36<00:07,  2.57s/it]\u001b[A\n",
      "Feature Extraction:  90%|████████████████████▋  | 18/20 [00:36<00:03,  1.92s/it]\u001b[A\n",
      "Feature Extraction:  95%|█████████████████████▊ | 19/20 [00:36<00:01,  1.39s/it]\u001b[A\n",
      "Feature Extraction: 100%|███████████████████████| 20/20 [00:36<00:00,  1.84s/it]\u001b[A\n",
      "100%|███████████████████████████████████████████| 19/19 [15:42<00:00, 49.60s/it]\n"
     ]
    }
   ],
   "source": [
    "##### COMPUTING TARGETS AND FEATURES\n",
    "\n",
    "# parameters\n",
    "days_input  = [1, 7, 14, 21, 28, 35]\n",
    "days_target = 14\n",
    "\n",
    "# preparations\n",
    "day_first = np.max(days_input)\n",
    "day_last  = agg_orders['day_of_year'].max() - days_target + 1\n",
    "orders    = None\n",
    "\n",
    "# merge manufacturer and category\n",
    "agg_orders = agg_orders.merge(items[['itemID', 'manufacturer']], how = 'left')\n",
    "agg_orders = agg_orders.merge(items[['itemID', 'category']],     how = 'left')\n",
    "\n",
    "\n",
    "# computations\n",
    "for day_of_year in tqdm(list(range(149, day_last)) + [agg_orders['day_of_year'].max()]):\n",
    "                \n",
    "\n",
    "    ### VALIDAION: TARGET, PROMOTIONS, PRICES\n",
    "        \n",
    "    # day intervals\n",
    "    target_day_min = day_of_year + 1\n",
    "    target_day_max = day_of_year + days_target\n",
    "    \n",
    "    # compute target and promo: labeled data\n",
    "    if day_of_year < agg_orders['day_of_year'].max():\n",
    "        \n",
    "        # target and future promo\n",
    "        tmp_df = agg_orders[(agg_orders['day_of_year'] >= target_day_min) &\n",
    "                    (agg_orders['day_of_year'] <= target_day_max)\n",
    "                   ].groupby('itemID')[['order', 'promotion']].agg('sum').reset_index()\n",
    "        tmp_df.columns = ['itemID', 'target', 'promo_in_test']\n",
    "        \n",
    "        # future price\n",
    "        tmp_df['mean_price_test'] = agg_orders[(agg_orders['day_of_year'] >= target_day_min) &\n",
    "                                               (agg_orders['day_of_year'] <= target_day_max)\n",
    "                                              ].groupby('itemID')['salesPrice'].agg('mean').reset_index()['salesPrice']\n",
    "        \n",
    "        # merge manufacturer and category\n",
    "        tmp_df = tmp_df.merge(items[['itemID', 'manufacturer', 'category']], how = 'left', on = 'itemID')\n",
    "        \n",
    "        # future price per manufacturer\n",
    "        tmp_df_manufacturer = agg_orders[(agg_orders['day_of_year'] >= target_day_min) &\n",
    "                                         (agg_orders['day_of_year'] <= target_day_max)\n",
    "                                         ].groupby('manufacturer')['salesPrice'].agg('mean').reset_index()\n",
    "        tmp_df_manufacturer.columns = ['manufacturer', 'mean_price_test_manufacturer']\n",
    "        tmp_df = tmp_df.merge(tmp_df_manufacturer, how = 'left', on = 'manufacturer')\n",
    "        \n",
    "        # future price per category\n",
    "        tmp_df_category = agg_orders[(agg_orders['day_of_year'] >= target_day_min) &\n",
    "                                     (agg_orders['day_of_year'] <= target_day_max)\n",
    "                                     ].groupby('category')['salesPrice'].agg('mean').reset_index()\n",
    "        tmp_df_category.columns = ['category', 'mean_price_test_category']\n",
    "        tmp_df = tmp_df.merge(tmp_df_category, how = 'left', on = 'category')\n",
    "        \n",
    "        # future promo per manufacturer\n",
    "        tmp_df_manufacturer = agg_orders[(agg_orders['day_of_year'] >= target_day_min) &\n",
    "                                         (agg_orders['day_of_year'] <= target_day_max)\n",
    "                                         ].groupby('manufacturer')['promotion'].agg('sum').reset_index()\n",
    "        tmp_df_manufacturer.columns = ['manufacturer', 'promo_in_test_manufacturer']\n",
    "        tmp_df = tmp_df.merge(tmp_df_manufacturer, how = 'left', on = 'manufacturer')\n",
    "\n",
    "        # future promo per category\n",
    "        tmp_df_category = agg_orders[(agg_orders['day_of_year'] >= target_day_min) &\n",
    "                                     (agg_orders['day_of_year'] <= target_day_max)\n",
    "                                     ].groupby('category')['promotion'].agg('sum').reset_index()\n",
    "        tmp_df_category.columns = ['category', 'promo_in_test_category']\n",
    "        tmp_df = tmp_df.merge(tmp_df_category, how = 'left', on = 'category')\n",
    "                       \n",
    "        \n",
    "    # compute target and promo: unlabeled data\n",
    "    else:\n",
    "        \n",
    "        # placeholders\n",
    "        tmp_df = pd.DataFrame({'itemID':                     items.itemID,\n",
    "                               'target':                     np.nan,\n",
    "                               'promo_in_test':              np.nan,\n",
    "                               'mean_price_test':            items.simulationPrice,\n",
    "                               'manufacturer':               items.manufacturer,\n",
    "                               'category':                   items.category,\n",
    "                               'promo_in_test_manufacturer': np.nan,\n",
    "                               'promo_in_test_category':     np.nan})\n",
    "\n",
    "        \n",
    "    ### TRAINING: LAG-BASED FEATURES\n",
    "            \n",
    "    # compute features\n",
    "    for day_input in days_input:\n",
    "        \n",
    "        # day intervals\n",
    "        input_day_min  = day_of_year - day_input + 1\n",
    "        input_day_max  = day_of_year\n",
    "    \n",
    "        # frequency, promo and price\n",
    "        tmp_df_input = agg_orders[(agg_orders['day_of_year'] >= input_day_min) &\n",
    "                                  (agg_orders['day_of_year'] <= input_day_max)\n",
    "                                 ].groupby('itemID')\n",
    "        tmp_df['order_sum_last_'   + str(day_input)] = tmp_df_input['order'].agg('sum').reset_index()['order']\n",
    "        tmp_df['order_count_last_' + str(day_input)] = tmp_df_input['order'].agg(lambda x: len(x[x > 0])).reset_index()['order']\n",
    "        tmp_df['promo_count_last_' + str(day_input)] = tmp_df_input['promotion'].agg('sum').reset_index()['promotion']\n",
    "        tmp_df['mean_price_last_'  + str(day_input)] = tmp_df_input['salesPrice'].agg('mean').reset_index()['salesPrice']\n",
    "\n",
    "        # frequency, promo per manufacturer\n",
    "        tmp_df_input = agg_orders[(agg_orders['day_of_year'] >= input_day_min) &\n",
    "                                  (agg_orders['day_of_year'] <= input_day_max)\n",
    "                                 ].groupby('manufacturer')\n",
    "        tmp_df_manufacturer = tmp_df_input['order'].agg('sum').reset_index()\n",
    "        tmp_df_manufacturer.columns = ['manufacturer', 'order_manufacturer_sum_last_' + str(day_input)]\n",
    "        tmp_df_manufacturer['order_manufacturer_count_last_' + str(day_input)] = tmp_df_input['order'].agg(lambda x: len(x[x > 0])).reset_index()['order']\n",
    "        tmp_df_manufacturer['promo_manufacturer_count_last_' + str(day_input)] = tmp_df_input['promotion'].agg('sum').reset_index()['promotion']\n",
    "        tmp_df = tmp_df.merge(tmp_df_manufacturer, how = 'left', on = 'manufacturer')\n",
    "    \n",
    "        # frequency, promo per category\n",
    "        tmp_df_input = agg_orders[(agg_orders['day_of_year'] >= input_day_min) &\n",
    "                                  (agg_orders['day_of_year'] <= input_day_max)\n",
    "                                 ].groupby('category')\n",
    "        tmp_df_category = tmp_df_input['order'].agg('sum').reset_index()\n",
    "        tmp_df_category.columns = ['category', 'order_category_sum_last_' + str(day_input)]       \n",
    "        tmp_df_category['order_category_count_last_' + str(day_input)] = tmp_df_input['order'].agg(lambda x: len(x[x > 0])).reset_index()['order']\n",
    "        tmp_df_category['promo_category_count_last_' + str(day_input)] = tmp_df_input['promotion'].agg('sum').reset_index()['promotion']\n",
    "        tmp_df = tmp_df.merge(tmp_df_category, how = 'left', on = 'category')\n",
    "\n",
    "        # frequency, promo per all items\n",
    "        tmp_df_input = agg_orders[(agg_orders['day_of_year'] >= input_day_min) &\n",
    "                                  (agg_orders['day_of_year'] <= input_day_max)]\n",
    "        tmp_df['order_all_sum_last_'   + str(day_input)] = tmp_df_input['order'].agg('sum')\n",
    "        tmp_df['order_all_count_last_' + str(day_input)] = tmp_df_input['order'].agg(lambda x: len(x[x > 0]))\n",
    "        tmp_df['promo_all_count_last_' + str(day_input)] = tmp_df_input['promotion'].agg('sum')\n",
    "        \n",
    "        # recency\n",
    "        if day_input == max(days_input):\n",
    "            tmp_df_input = agg_orders[(agg_orders['day_of_year'] >= input_day_min) &\n",
    "                                      (agg_orders['day_of_year'] <= input_day_max) &\n",
    "                                      (agg_orders['order'] > 0)\n",
    "                                     ].groupby('itemID')\n",
    "            tmp_df['days_since_last_order'] = (day_of_year - tmp_df_input['day_of_year'].agg('max')).reindex(tmp_df.itemID).reset_index()['day_of_year']\n",
    "            tmp_df['days_since_last_order'].fillna(day_input, inplace = True)\n",
    "            \n",
    "            \n",
    "        # tsfresh features\n",
    "        if day_input == max(days_input):\n",
    "            tmp_df_input = agg_orders[(agg_orders['day_of_year'] >= input_day_min) &\n",
    "                                      (agg_orders['day_of_year'] <= input_day_max)]\n",
    "            tmp_df_input = tmp_df_input[['day_of_year', 'itemID', 'order']]\n",
    "            extracted_features = extract_features(tmp_df_input, column_id = 'itemID', column_sort = 'day_of_year')\n",
    "            extracted_features['itemID'] = extracted_features.index\n",
    "            tmp_df = tmp_df.merge(extracted_features, how = 'left', on = 'itemID')\n",
    "            \n",
    "            \n",
    "    ### FINAL PREPARATIONS\n",
    "            \n",
    "    # add day of year\n",
    "    tmp_df.insert(1, column = 'day_of_year', value = day_of_year)\n",
    "        \n",
    "    # merge data\n",
    "    orders = pd.concat([orders, tmp_df], axis = 0)\n",
    "    \n",
    "    # drop manufacturer and category\n",
    "    del orders['manufacturer']\n",
    "    del orders['category']"
   ]
  },
  {
   "cell_type": "code",
   "execution_count": 25,
   "metadata": {},
   "outputs": [
    {
     "name": "stdout",
     "output_type": "stream",
     "text": [
      "(198797, 470)\n"
     ]
    }
   ],
   "source": [
    "##### REMOVE MISSINGS\n",
    "\n",
    "good_nas = ['target', \n",
    "            'mean_price_test_category', 'mean_price_test_manufacturer',\n",
    "            'promo_in_test', 'promo_in_test_category', 'promo_in_test_manufacturer']\n",
    "nonas = list(orders.columns[orders.isnull().sum() == 0]) + good_nas\n",
    "orders = orders[nonas]\n",
    "print(orders.shape)"
   ]
  },
  {
   "cell_type": "code",
   "execution_count": 26,
   "metadata": {},
   "outputs": [
    {
     "name": "stdout",
     "output_type": "stream",
     "text": [
      "(198797, 470)\n",
      "(198797, 488)\n"
     ]
    }
   ],
   "source": [
    "##### COMPUTE MEAN PRICE RATIOS\n",
    "\n",
    "print(orders.shape)\n",
    "price_vars = ['mean_price_last_1', 'mean_price_last_7', 'mean_price_last_14', \n",
    "              'mean_price_last_21', 'mean_price_last_28', 'mean_price_last_35']\n",
    "for var in price_vars:\n",
    "    orders['ratio_'              + str(var)] = orders['mean_price_test']              / orders[var]\n",
    "    orders['ratio_manufacturer_' + str(var)] = orders['mean_price_test_manufacturer'] / orders[var]\n",
    "    orders['ratio_category_'     + str(var)] = orders['mean_price_test_category']     / orders[var]\n",
    "print(orders.shape)"
   ]
  },
  {
   "cell_type": "code",
   "execution_count": 32,
   "metadata": {},
   "outputs": [
    {
     "data": {
      "text/plain": [
       "Text(0.5, 0, 'Day')"
      ]
     },
     "execution_count": 32,
     "metadata": {},
     "output_type": "execute_result"
    },
    {
     "data": {
      "image/png": "[encoded data removed]",
      "text/plain": [
       "<Figure size 720x360 with 1 Axes>"
      ]
     },
     "metadata": {
      "needs_background": "dark"
     },
     "output_type": "display_data"
    }
   ],
   "source": [
    "##### EXAMPLE SALES PLOT\n",
    "\n",
    "df = orders[orders.itemID == 1]\n",
    "plt.figure(figsize = (10, 5))\n",
    "plt.scatter(df['day_of_year'], df['target'], c = df['promo_in_test'])\n",
    "plt.title('itemID == 1')\n",
    "plt.ylabel('Target (orders in next 14 days)')\n",
    "plt.xlabel('Day')"
   ]
  },
  {
   "cell_type": "markdown",
   "metadata": {},
   "source": [
    "# MERGE DATA SETS"
   ]
  },
  {
   "cell_type": "code",
   "execution_count": 27,
   "metadata": {},
   "outputs": [
    {
     "name": "stdout",
     "output_type": "stream",
     "text": [
      "(198797, 488)\n",
      "(10463, 16)\n",
      "(198797, 503)\n"
     ]
    }
   ],
   "source": [
    "print(orders.shape)\n",
    "print(items.shape)\n",
    "df = pd.merge(orders, items, on = 'itemID', how = 'left')\n",
    "print(df.shape)"
   ]
  },
  {
   "cell_type": "markdown",
   "metadata": {},
   "source": [
    "# EXTRACT TEST DATA"
   ]
  },
  {
   "cell_type": "code",
   "execution_count": 29,
   "metadata": {},
   "outputs": [
    {
     "name": "stdout",
     "output_type": "stream",
     "text": [
      "(188334, 503)\n",
      "(10463, 503)\n"
     ]
    }
   ],
   "source": [
    "# partition intro train and test\n",
    "df_train = df[df['day_of_year'] <  df['day_of_year'].max()]\n",
    "df_test  = df[df['day_of_year'] == df['day_of_year'].max()]\n",
    "print(df_train.shape)\n",
    "print(df_test.shape)"
   ]
  },
  {
   "cell_type": "code",
   "execution_count": 30,
   "metadata": {},
   "outputs": [
    {
     "name": "stdout",
     "output_type": "stream",
     "text": [
      "(10463, 502)\n",
      "(10463, 503)\n",
      "(10463, 502)\n",
      "(10463, 503)\n",
      "(10463, 503)\n"
     ]
    }
   ],
   "source": [
    "##### COMPUTE FEATURES FOR TEST DATA\n",
    "\n",
    "# add promotion info to test\n",
    "promo_vars = df_test.filter(like = 'promotion_').columns\n",
    "df_test['promo_in_test'] = 3 - df_test[promo_vars].isnull().sum(axis = 1)\n",
    "df_test['promo_in_test'].describe()\n",
    "\n",
    "\n",
    "### PROMO PER MANUFACTURER, CATEGORY\n",
    "\n",
    "del df_test['promo_in_test_manufacturer'], df_test['promo_in_test_category']\n",
    "\n",
    "# future promo per manufacturer\n",
    "tmp_df_manufacturer = df_test.groupby('manufacturer')['promo_in_test'].agg('sum').reset_index()\n",
    "tmp_df_manufacturer.columns = ['manufacturer', 'promo_in_test_manufacturer']\n",
    "df_test = df_test.merge(tmp_df_manufacturer, how = 'left', on = 'manufacturer')\n",
    "print(df_test.shape)\n",
    "\n",
    "# future promo per category\n",
    "tmp_df_category = df_test.groupby('category')['promo_in_test'].agg('sum').reset_index()\n",
    "tmp_df_category.columns = ['category', 'promo_in_test_category']\n",
    "df_test = df_test.merge(tmp_df_category, how = 'left', on = 'category')\n",
    "print(df_test.shape)\n",
    "\n",
    "\n",
    "### PRICE PER MANUFACTURER, CATEGORY\n",
    "\n",
    "del df_test['mean_price_test_manufacturer'], df_test['mean_price_test_category']\n",
    "\n",
    "# future price per manufacturer\n",
    "tmp_df_manufacturer = df_test.groupby('manufacturer')['mean_price_test'].agg('mean').reset_index()\n",
    "tmp_df_manufacturer.columns = ['manufacturer', 'mean_price_test_manufacturer']\n",
    "df_test = df_test.merge(tmp_df_manufacturer, how = 'left', on = 'manufacturer')\n",
    "print(df_test.shape)\n",
    "\n",
    "# future price per category\n",
    "tmp_df_category = df_test.groupby('category')['mean_price_test'].agg('mean').reset_index()\n",
    "tmp_df_category.columns = ['category', 'mean_price_test_category']\n",
    "df_test = df_test.merge(tmp_df_category, how = 'left', on = 'category')\n",
    "print(df_test.shape)\n",
    "\n",
    "\n",
    "### MEAN PRICE RATIOS\n",
    "\n",
    "for var in price_vars:\n",
    "    df_test['ratio_'              + str(var)] = df_test['mean_price_test']              / df_test[var]\n",
    "    df_test['ratio_manufacturer_' + str(var)] = df_test['mean_price_test_manufacturer'] / df_test[var]\n",
    "    df_test['ratio_category_'     + str(var)] = df_test['mean_price_test_category']     / df_test[var]\n",
    "print(df_test.shape)"
   ]
  },
  {
   "cell_type": "code",
   "execution_count": 31,
   "metadata": {},
   "outputs": [
    {
     "name": "stdout",
     "output_type": "stream",
     "text": [
      "(188334, 500)\n",
      "(10463, 500)\n",
      "(188334, 492)\n",
      "(10463, 492)\n"
     ]
    }
   ],
   "source": [
    "# drop promotion dates\n",
    "df_test.drop(promo_vars,  axis = 1, inplace = True)\n",
    "df_train.drop(promo_vars, axis = 1, inplace = True)\n",
    "print(df_train.shape)\n",
    "print(df_test.shape)\n",
    "\n",
    "# drop mean prices\n",
    "price_vars = price_vars + ['mean_price_test_manufacturer', 'mean_price_test_category']\n",
    "df_test.drop(price_vars,  axis = 1, inplace = True)\n",
    "df_train.drop(price_vars, axis = 1, inplace = True)\n",
    "print(df_train.shape)\n",
    "print(df_test.shape)"
   ]
  },
  {
   "cell_type": "markdown",
   "metadata": {},
   "source": [
    "# EXPORT"
   ]
  },
  {
   "cell_type": "code",
   "execution_count": 32,
   "metadata": {},
   "outputs": [
    {
     "name": "stdout",
     "output_type": "stream",
     "text": [
      "Saved as ../data/prepared/df_v1.csv\n",
      "Saved as ../data/prepared/df_test_v3.csv\n",
      "(188334, 492)\n",
      "(10463, 492)\n"
     ]
    }
   ],
   "source": [
    "# save data frame\n",
    "# save_csv_version() automatically adds version number to prevent overwriting\n",
    "save_csv_version('../data/prepared/df.csv',      df_train, index = False, compression = 'gzip')\n",
    "save_csv_version('../data/prepared/df_test.csv', df_test,  index = False, compression = 'gzip', min_version = 3)\n",
    "print(df_train.shape)\n",
    "print(df_test.shape)"
   ]
  },
  {
   "cell_type": "code",
   "execution_count": null,
   "metadata": {},
   "outputs": [],
   "source": []
  }
 ],
 "metadata": {
  "kernelspec": {
   "display_name": "Python 3 (ipykernel)",
   "language": "python",
   "name": "python3"
  },
  "language_info": {
   "codemirror_mode": {
    "name": "ipython",
    "version": 3
   },
   "file_extension": ".py",
   "mimetype": "text/x-python",
   "name": "python",
   "nbconvert_exporter": "python",
   "pygments_lexer": "ipython3",
   "version": "3.11.5"
  }
 },
 "nbformat": 4,
 "nbformat_minor": 4
}
