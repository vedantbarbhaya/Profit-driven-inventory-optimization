{
 "cells": [
  {
   "cell_type": "markdown",
   "metadata": {},
   "source": [
    "# SETTINGS\n",
    "\n",
    "The notebook implements stacking ensemble of predictions coming from different variants of the LightGBM models implemented in `notebook_03_modeling.ipynb` over the course of working on the project. \n",
    "\n",
    "Stacking is implemented using higher-level LightGBM models. The ensembled predictions are exported as `sub_stack_[name].csv`."
   ]
  },
  {
   "cell_type": "code",
   "execution_count": null,
   "metadata": {},
   "outputs": [],
   "source": [
    "##### LIBRARIES\n",
    "\n",
    "import numpy as np\n",
    "import pandas as pd\n",
    "\n",
    "import matplotlib.pyplot as plt\n",
    "import seaborn as sns\n",
    "\n",
    "import scipy.stats\n",
    "from scipy.stats import gmean\n",
    "\n",
    "import os\n",
    "import time\n",
    "import datetime\n",
    "import random\n",
    "import multiprocessing\n",
    "import pickle\n",
    "import warnings\n",
    "import gc\n",
    "from tqdm import tqdm\n",
    "import importlib\n",
    "import sys\n",
    "\n",
    "from sklearn.model_selection import KFold\n",
    "\n",
    "import lightgbm as lgb\n",
    "from sklearn.metrics import mean_squared_error"
   ]
  },
  {
   "cell_type": "code",
   "execution_count": null,
   "metadata": {},
   "outputs": [],
   "source": [
    "##### SETTINGS\n",
    "\n",
    "warnings.filterwarnings('ignore')\n",
    "pd.set_option('display.max_columns', None)\n",
    "plt.style.use('dark_background')\n",
    "%matplotlib inline\n",
    "gc.enable()"
   ]
  },
  {
   "cell_type": "markdown",
   "metadata": {},
   "source": [
    "# IMPORT PREDICTIONS"
   ]
  },
  {
   "cell_type": "code",
   "execution_count": null,
   "metadata": {},
   "outputs": [],
   "source": [
    "##### IMPORT OOF PREDS\n",
    "\n",
    "# version threshold\n",
    "min_lgb_version = 17\n",
    "min_df_version  = 12\n",
    "\n",
    "# prepare model names\n",
    "models = os.listdir('../oof_preds')\n",
    "models = [m for m in models if m != '.DS_Store']\n",
    "models = [m for m in models if int(m.split('_')[1][1:]) >= min_lgb_version]\n",
    "models = [m for m in models if int(m.split('_')[3][1:]) >= min_df_version]\n",
    "models = [m.replace('.npy', '') for m in models]\n",
    "models = sorted(models)\n",
    "print('OOF predictions:', len(models))\n",
    "models"
   ]
  },
  {
   "cell_type": "code",
   "execution_count": null,
   "metadata": {},
   "outputs": [],
   "source": [
    "# preprocessing loop\n",
    "for m in models:\n",
    "\n",
    "    # load preds\n",
    "    tmp_tr = np.load('../oof_preds/'           + m + '.npy')\n",
    "    tmp_te = pd.read_csv('../submissions/sub_' + m + '.csv', sep = '|')\n",
    "\n",
    "    # split OOF preds\n",
    "    tmp_preds_oof = tmp_tr[0]\n",
    "    tmp_preds_oof = pd.DataFrame(tmp_preds_oof.reshape(-1))\n",
    "    if m == models[0]:\n",
    "        reals_oof = tmp_tr[1]\n",
    "        reals_oof = pd.DataFrame(reals_oof.reshape(-1))\n",
    "        \n",
    "    # split ID from test preds\n",
    "    if m == models[0]:\n",
    "        id_test = tmp_te[['itemID']]\n",
    "    tmp_te = tmp_te[['demandPrediction']]\n",
    "\n",
    "    # rename columns\n",
    "    reals_oof.columns     = ['target']\n",
    "    tmp_preds_oof.columns = [m]    \n",
    "    tmp_te.columns        = [m]  \n",
    "\n",
    "    # stack preds\n",
    "    if m == models[0]:     \n",
    "        preds_oof  = tmp_preds_oof\n",
    "        preds_test = tmp_te\n",
    "    else:\n",
    "        preds_oof  = pd.concat([preds_oof,  tmp_preds_oof], axis = 1)\n",
    "        preds_test = pd.concat([preds_test, tmp_te],        axis = 1)\n",
    "        \n",
    "# extract OOF prices and targets\n",
    "reals_oof  = tmp_tr[1].reshape(-1)\n",
    "prices_oof = tmp_tr[2].reshape(-1)\n",
    "        \n",
    "# display information\n",
    "print('- Train shape:', preds_oof.shape)\n",
    "print('- Test shape:',  preds_test.shape)"
   ]
  },
  {
   "cell_type": "code",
   "execution_count": null,
   "metadata": {},
   "outputs": [],
   "source": [
    "# rename objects\n",
    "y        = pd.Series(reals_oof.copy())\n",
    "X        = preds_oof.copy()\n",
    "X_prices = pd.Series(prices_oof).copy()\n",
    "X_test   = preds_test.copy()"
   ]
  },
  {
   "cell_type": "code",
   "execution_count": null,
   "metadata": {},
   "outputs": [],
   "source": [
    "# read items\n",
    "items = pd.read_csv('../data/prepared/items_v1.csv', compression = 'gzip')\n",
    "print(items.shape)"
   ]
  },
  {
   "cell_type": "markdown",
   "metadata": {},
   "source": [
    "# STACKING"
   ]
  },
  {
   "cell_type": "code",
   "execution_count": null,
   "metadata": {},
   "outputs": [],
   "source": [
    "##### MODULES\n",
    "\n",
    "sys.path.append('../codes')  \n",
    "\n",
    "from evaluation import asymmetric_mse, asymmetric_mse_eval, profit\n",
    "from postprocessing import postprocess_preds"
   ]
  },
  {
   "cell_type": "code",
   "execution_count": null,
   "metadata": {},
   "outputs": [],
   "source": [
    "##### LIST RELEVANT FEATURES\n",
    "\n",
    "drop_feats = []\n",
    "features = [var for var in X.columns if var not in drop_feats]\n",
    "print(len(features), 'features')\n",
    "features"
   ]
  },
  {
   "cell_type": "code",
   "execution_count": null,
   "metadata": {},
   "outputs": [],
   "source": [
    "##### MODELING PARAMETERS\n",
    "\n",
    "# random seed\n",
    "seed = 777\n",
    "\n",
    "# cross-validation\n",
    "num_folds = 5\n",
    "shuffle   = True\n",
    "\n",
    "# rounds and options\n",
    "cores       = 4\n",
    "stop_rounds = 100\n",
    "verbose     = 100\n",
    "\n",
    "# LGB parameters\n",
    "lgb_params = {\n",
    "    'boosting_type':    'goss',\n",
    "    'objective':        'rmse',#asymmetric_mse,\n",
    "    'metrics':          'rmse',\n",
    "    'n_estimators':     1000,\n",
    "    'learning_rate':    0.1,\n",
    "    'bagging_fraction': 0.8,\n",
    "    'feature_fraction': 0.8,\n",
    "    'lambda_l1':        0.1,\n",
    "    'lambda_l2':        0.1,\n",
    "    'silent':           True,\n",
    "    'verbosity':        -1,\n",
    "    'nthread' :         cores,\n",
    "    'random_state':     seed,\n",
    "}\n",
    "\n",
    "# data partitioning\n",
    "folds = KFold(n_splits = num_folds, random_state = seed, shuffle = shuffle)"
   ]
  },
  {
   "cell_type": "code",
   "execution_count": null,
   "metadata": {},
   "outputs": [],
   "source": [
    "##### CROSS-VALIDATION LOOP\n",
    "\n",
    "# placeholders\n",
    "oof_profit = []\n",
    "preds_test = np.zeros(items.shape[0])\n",
    "preds_oof  = np.zeros(X.shape[0])\n",
    "reals_oof  = np.zeros(X.shape[0])\n",
    "oof_rmse      = []\n",
    "oof_profit    = []\n",
    "oracle_profit = []\n",
    "\n",
    "# cross-validation\n",
    "for fold, (trn_idx, val_idx) in enumerate(folds.split(X, y)):\n",
    "    \n",
    "    # data partitioning\n",
    "    X_train, y_train = X[features].iloc[trn_idx], y.iloc[trn_idx]\n",
    "    X_valid, y_valid = X[features].iloc[val_idx], y.iloc[val_idx]\n",
    "    \n",
    "    # training\n",
    "    clf = lgb.LGBMRegressor(**lgb_params) \n",
    "    clf = clf.fit(X_train, y_train, \n",
    "                  eval_set              = [(X_train, y_train), (X_valid, y_valid)], \n",
    "                  eval_metric           = 'rmse',\n",
    "                  sample_weight         = X_prices.iloc[trn_idx].values,\n",
    "                  eval_sample_weight    = [X_prices.iloc[trn_idx].values, X_prices.iloc[val_idx].values],\n",
    "                  early_stopping_rounds = stop_rounds,\n",
    "                  verbose               = verbose)\n",
    "       \n",
    "    # predictions\n",
    "    reals_oof[val_idx] = y_valid\n",
    "    preds_oof[val_idx] = postprocess_preds(clf.predict(X_valid))\n",
    "    preds_test        += postprocess_preds(clf.predict(X_test)) / num_folds\n",
    "    \n",
    "    # evaluation\n",
    "    oof_rmse.append(np.sqrt(mean_squared_error(reals_oof[val_idx], preds_oof[val_idx])))\n",
    "    oof_profit.append(profit(reals_oof[val_idx],    preds_oof[val_idx], price = X_prices.iloc[val_idx].values))\n",
    "    oracle_profit.append(profit(reals_oof[val_idx], reals_oof[val_idx], price = X_prices.iloc[val_idx].values))\n",
    "    \n",
    "    # information\n",
    "    print('-' * 65)\n",
    "    print('FOLD {:d}/{:d}: RMSE = {:.2f}, PROFIT = {:.0f}'.format(fold + 1, \n",
    "                                                                  num_folds, \n",
    "                                                                  oof_rmse[fold], \n",
    "                                                                  oof_profit[fold]))\n",
    "    print('-' * 65)\n",
    "    print('')\n",
    "\n",
    "    \n",
    "# print performance\n",
    "oof_rmse      = np.sqrt(mean_squared_error(reals_oof, preds_oof))    \n",
    "oof_profit    = profit(reals_oof, preds_oof, price = X_prices.values) / tmp_tr.shape[1]\n",
    "oracle_profit = profit(reals_oof, reals_oof, price = X_prices.values) / tmp_tr.shape[1]\n",
    "print('')\n",
    "print('-' * 65)\n",
    "print('- AVERAGE RMSE:   {:.2f}'.format(np.mean(oof_rmse)))\n",
    "print('- AVERAGE PROFIT: {:.0f} ({:.2f}%)'.format(np.mean(oof_profit), 100 * np.mean(oof_profit) / np.mean(oracle_profit)))\n",
    "print('-' * 65)"
   ]
  },
  {
   "cell_type": "markdown",
   "metadata": {},
   "source": [
    "# SUBMISSION"
   ]
  },
  {
   "cell_type": "code",
   "execution_count": null,
   "metadata": {},
   "outputs": [],
   "source": [
    "##### SUBMISSION\n",
    "\n",
    "# model name\n",
    "sub_name = 'stack_' + str(len(models)) + 'preds'\n",
    "\n",
    "# save submissiion\n",
    "sub = pd.read_csv('../submissions/sample_submission.csv', sep = '|')\n",
    "sub['demandPrediction'] = postprocess_preds(preds_test)\n",
    "sub.to_csv('../submissions/sub_' + sub_name + '.csv', sep = '|', index = False)\n",
    "print(sub.shape)\n",
    "sub.head()"
   ]
  }
 ],
 "metadata": {
  "kernelspec": {
   "display_name": "Python 3 (ipykernel)",
   "language": "python",
   "name": "python3"
  },
  "language_info": {
   "codemirror_mode": {
    "name": "ipython",
    "version": 3
   },
   "file_extension": ".py",
   "mimetype": "text/x-python",
   "name": "python",
   "nbconvert_exporter": "python",
   "pygments_lexer": "ipython3",
   "version": "3.11.5"
  }
 },
 "nbformat": 4,
 "nbformat_minor": 4
}
