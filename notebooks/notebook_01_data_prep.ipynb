{
 "cells": [
  {
   "cell_type": "markdown",
   "metadata": {},
   "source": [
    "# SETTINGS\n",
    "\n",
    "This notebook performs initial data processing:\n",
    "- importing the raw data\n",
    "- converting feature types\n",
    "- merging some data.frames\n",
    "- saving data as two CSV files: `orders.csv` and `items.csv`.\n",
    "\n",
    "A detailed walkthrough of the code covering the key steps is provided in [this blog post](https://kozodoi.me/python/time%20series/demand%20forecasting/competitions/2020/07/27/demand-forecasting.html)."
   ]
  },
  {
   "cell_type": "code",
   "execution_count": 1,
   "metadata": {},
   "outputs": [],
   "source": [
    "##### LIBRARIES\n",
    "\n",
    "import numpy as np\n",
    "import pandas as pd\n",
    "\n",
    "import matplotlib.pyplot as plt\n",
    "import seaborn as sns\n",
    "\n",
    "import scipy.stats\n",
    "\n",
    "import os\n",
    "import time\n",
    "import datetime\n",
    "import random\n",
    "import multiprocessing\n",
    "import pickle\n",
    "import warnings\n",
    "import gc\n",
    "import sys"
   ]
  },
  {
   "cell_type": "code",
   "execution_count": 2,
   "metadata": {},
   "outputs": [],
   "source": [
    "##### MODULES\n",
    "\n",
    "sys.path.append('../codes')  \n",
    "\n",
    "from data_prep import print_factor_levels, print_missings, find_constant_features, split_nested_features\n",
    "from versioning import save_csv_version"
   ]
  },
  {
   "cell_type": "code",
   "execution_count": 3,
   "metadata": {},
   "outputs": [
    {
     "name": "stdout",
     "output_type": "stream",
     "text": [
      "['/Users/vedantbarbhaya/Desktop/Projects/Github/DM_project/notebooks', '/Users/vedantbarbhaya/anaconda3/lib/python311.zip', '/Users/vedantbarbhaya/anaconda3/lib/python3.11', '/Users/vedantbarbhaya/anaconda3/lib/python3.11/lib-dynload', '', '/Users/vedantbarbhaya/anaconda3/lib/python3.11/site-packages', '/Users/vedantbarbhaya/anaconda3/lib/python3.11/site-packages/aeosa', '../codes']\n"
     ]
    }
   ],
   "source": [
    "print(sys.path)"
   ]
  },
  {
   "cell_type": "code",
   "execution_count": 4,
   "metadata": {},
   "outputs": [],
   "source": [
    "##### SETTINGS\n",
    "\n",
    "warnings.filterwarnings('ignore')\n",
    "pd.set_option('display.max_columns', None)\n",
    "plt.style.use('dark_background')\n",
    "%matplotlib inline\n",
    "gc.enable()"
   ]
  },
  {
   "cell_type": "markdown",
   "metadata": {},
   "source": [
    "# DATA IMPORT"
   ]
  },
  {
   "cell_type": "code",
   "execution_count": 5,
   "metadata": {},
   "outputs": [
    {
     "name": "stdout",
     "output_type": "stream",
     "text": [
      "(10463, 3)\n",
      "(10463, 8)\n",
      "(2181955, 5)\n"
     ]
    }
   ],
   "source": [
    "##### IMPORT\n",
    "\n",
    "infos  = pd.read_csv('../data/raw/infos.csv',  sep = '|')\n",
    "items  = pd.read_csv('../data/raw/items.csv',  sep = '|')\n",
    "orders = pd.read_csv('../data/raw/orders.csv', sep = '|')\n",
    "\n",
    "print(infos.shape)\n",
    "print(items.shape)\n",
    "print(orders.shape)"
   ]
  },
  {
   "cell_type": "code",
   "execution_count": 26,
   "metadata": {},
   "outputs": [
    {
     "data": {
      "text/html": [
       "<div>\n",
       "<style scoped>\n",
       "    .dataframe tbody tr th:only-of-type {\n",
       "        vertical-align: middle;\n",
       "    }\n",
       "\n",
       "    .dataframe tbody tr th {\n",
       "        vertical-align: top;\n",
       "    }\n",
       "\n",
       "    .dataframe thead th {\n",
       "        text-align: right;\n",
       "    }\n",
       "</style>\n",
       "<table border=\"1\" class=\"dataframe\">\n",
       "  <thead>\n",
       "    <tr style=\"text-align: right;\">\n",
       "      <th></th>\n",
       "      <th>itemID</th>\n",
       "      <th>simulationPrice</th>\n",
       "      <th>promotion</th>\n",
       "    </tr>\n",
       "  </thead>\n",
       "  <tbody>\n",
       "    <tr>\n",
       "      <th>0</th>\n",
       "      <td>1</td>\n",
       "      <td>3.43</td>\n",
       "      <td>NaN</td>\n",
       "    </tr>\n",
       "    <tr>\n",
       "      <th>1</th>\n",
       "      <td>2</td>\n",
       "      <td>9.15</td>\n",
       "      <td>NaN</td>\n",
       "    </tr>\n",
       "    <tr>\n",
       "      <th>2</th>\n",
       "      <td>3</td>\n",
       "      <td>14.04</td>\n",
       "      <td>NaN</td>\n",
       "    </tr>\n",
       "    <tr>\n",
       "      <th>3</th>\n",
       "      <td>4</td>\n",
       "      <td>14.10</td>\n",
       "      <td>NaN</td>\n",
       "    </tr>\n",
       "    <tr>\n",
       "      <th>4</th>\n",
       "      <td>5</td>\n",
       "      <td>7.48</td>\n",
       "      <td>NaN</td>\n",
       "    </tr>\n",
       "  </tbody>\n",
       "</table>\n",
       "</div>"
      ],
      "text/plain": [
       "   itemID  simulationPrice promotion\n",
       "0       1             3.43       NaN\n",
       "1       2             9.15       NaN\n",
       "2       3            14.04       NaN\n",
       "3       4            14.10       NaN\n",
       "4       5             7.48       NaN"
      ]
     },
     "execution_count": 26,
     "metadata": {},
     "output_type": "execute_result"
    }
   ],
   "source": [
    "infos.head()"
   ]
  },
  {
   "cell_type": "code",
   "execution_count": 7,
   "metadata": {},
   "outputs": [
    {
     "data": {
      "text/html": [
       "<div>\n",
       "<style scoped>\n",
       "    .dataframe tbody tr th:only-of-type {\n",
       "        vertical-align: middle;\n",
       "    }\n",
       "\n",
       "    .dataframe tbody tr th {\n",
       "        vertical-align: top;\n",
       "    }\n",
       "\n",
       "    .dataframe thead th {\n",
       "        text-align: right;\n",
       "    }\n",
       "</style>\n",
       "<table border=\"1\" class=\"dataframe\">\n",
       "  <thead>\n",
       "    <tr style=\"text-align: right;\">\n",
       "      <th></th>\n",
       "      <th>itemID</th>\n",
       "      <th>brand</th>\n",
       "      <th>manufacturer</th>\n",
       "      <th>customerRating</th>\n",
       "      <th>category1</th>\n",
       "      <th>category2</th>\n",
       "      <th>category3</th>\n",
       "      <th>recommendedRetailPrice</th>\n",
       "    </tr>\n",
       "  </thead>\n",
       "  <tbody>\n",
       "    <tr>\n",
       "      <th>0</th>\n",
       "      <td>1</td>\n",
       "      <td>0</td>\n",
       "      <td>1</td>\n",
       "      <td>4.38</td>\n",
       "      <td>1</td>\n",
       "      <td>1</td>\n",
       "      <td>1</td>\n",
       "      <td>8.84</td>\n",
       "    </tr>\n",
       "    <tr>\n",
       "      <th>1</th>\n",
       "      <td>2</td>\n",
       "      <td>0</td>\n",
       "      <td>2</td>\n",
       "      <td>3.00</td>\n",
       "      <td>1</td>\n",
       "      <td>2</td>\n",
       "      <td>1</td>\n",
       "      <td>16.92</td>\n",
       "    </tr>\n",
       "    <tr>\n",
       "      <th>2</th>\n",
       "      <td>3</td>\n",
       "      <td>0</td>\n",
       "      <td>3</td>\n",
       "      <td>5.00</td>\n",
       "      <td>1</td>\n",
       "      <td>3</td>\n",
       "      <td>1</td>\n",
       "      <td>15.89</td>\n",
       "    </tr>\n",
       "    <tr>\n",
       "      <th>3</th>\n",
       "      <td>4</td>\n",
       "      <td>0</td>\n",
       "      <td>2</td>\n",
       "      <td>4.44</td>\n",
       "      <td>1</td>\n",
       "      <td>2</td>\n",
       "      <td>1</td>\n",
       "      <td>40.17</td>\n",
       "    </tr>\n",
       "    <tr>\n",
       "      <th>4</th>\n",
       "      <td>5</td>\n",
       "      <td>0</td>\n",
       "      <td>2</td>\n",
       "      <td>2.33</td>\n",
       "      <td>1</td>\n",
       "      <td>1</td>\n",
       "      <td>1</td>\n",
       "      <td>17.04</td>\n",
       "    </tr>\n",
       "  </tbody>\n",
       "</table>\n",
       "</div>"
      ],
      "text/plain": [
       "   itemID  brand  manufacturer  customerRating  category1  category2  \\\n",
       "0       1      0             1            4.38          1          1   \n",
       "1       2      0             2            3.00          1          2   \n",
       "2       3      0             3            5.00          1          3   \n",
       "3       4      0             2            4.44          1          2   \n",
       "4       5      0             2            2.33          1          1   \n",
       "\n",
       "   category3  recommendedRetailPrice  \n",
       "0          1                    8.84  \n",
       "1          1                   16.92  \n",
       "2          1                   15.89  \n",
       "3          1                   40.17  \n",
       "4          1                   17.04  "
      ]
     },
     "execution_count": 7,
     "metadata": {},
     "output_type": "execute_result"
    }
   ],
   "source": [
    "items.head()"
   ]
  },
  {
   "cell_type": "code",
   "execution_count": 27,
   "metadata": {},
   "outputs": [
    {
     "data": {
      "text/html": [
       "<div>\n",
       "<style scoped>\n",
       "    .dataframe tbody tr th:only-of-type {\n",
       "        vertical-align: middle;\n",
       "    }\n",
       "\n",
       "    .dataframe tbody tr th {\n",
       "        vertical-align: top;\n",
       "    }\n",
       "\n",
       "    .dataframe thead th {\n",
       "        text-align: right;\n",
       "    }\n",
       "</style>\n",
       "<table border=\"1\" class=\"dataframe\">\n",
       "  <thead>\n",
       "    <tr style=\"text-align: right;\">\n",
       "      <th></th>\n",
       "      <th>time</th>\n",
       "      <th>transactID</th>\n",
       "      <th>itemID</th>\n",
       "      <th>order</th>\n",
       "      <th>salesPrice</th>\n",
       "    </tr>\n",
       "  </thead>\n",
       "  <tbody>\n",
       "    <tr>\n",
       "      <th>0</th>\n",
       "      <td>2018-01-01 00:01:56</td>\n",
       "      <td>2278968</td>\n",
       "      <td>450</td>\n",
       "      <td>1</td>\n",
       "      <td>17.42</td>\n",
       "    </tr>\n",
       "    <tr>\n",
       "      <th>1</th>\n",
       "      <td>2018-01-01 00:01:56</td>\n",
       "      <td>2278968</td>\n",
       "      <td>83</td>\n",
       "      <td>1</td>\n",
       "      <td>5.19</td>\n",
       "    </tr>\n",
       "    <tr>\n",
       "      <th>2</th>\n",
       "      <td>2018-01-01 00:07:11</td>\n",
       "      <td>2255797</td>\n",
       "      <td>7851</td>\n",
       "      <td>2</td>\n",
       "      <td>20.47</td>\n",
       "    </tr>\n",
       "    <tr>\n",
       "      <th>3</th>\n",
       "      <td>2018-01-01 00:09:24</td>\n",
       "      <td>2278968</td>\n",
       "      <td>450</td>\n",
       "      <td>1</td>\n",
       "      <td>17.42</td>\n",
       "    </tr>\n",
       "    <tr>\n",
       "      <th>4</th>\n",
       "      <td>2018-01-01 00:09:24</td>\n",
       "      <td>2278968</td>\n",
       "      <td>83</td>\n",
       "      <td>1</td>\n",
       "      <td>5.19</td>\n",
       "    </tr>\n",
       "    <tr>\n",
       "      <th>5</th>\n",
       "      <td>2018-01-01 00:39:26</td>\n",
       "      <td>2257125</td>\n",
       "      <td>9375</td>\n",
       "      <td>1</td>\n",
       "      <td>31.02</td>\n",
       "    </tr>\n",
       "    <tr>\n",
       "      <th>6</th>\n",
       "      <td>2018-01-01 00:51:59</td>\n",
       "      <td>2278968</td>\n",
       "      <td>450</td>\n",
       "      <td>1</td>\n",
       "      <td>17.42</td>\n",
       "    </tr>\n",
       "    <tr>\n",
       "      <th>7</th>\n",
       "      <td>2018-01-01 00:51:59</td>\n",
       "      <td>2278968</td>\n",
       "      <td>83</td>\n",
       "      <td>1</td>\n",
       "      <td>5.19</td>\n",
       "    </tr>\n",
       "    <tr>\n",
       "      <th>8</th>\n",
       "      <td>2018-01-01 00:51:59</td>\n",
       "      <td>2278968</td>\n",
       "      <td>19</td>\n",
       "      <td>1</td>\n",
       "      <td>77.64</td>\n",
       "    </tr>\n",
       "    <tr>\n",
       "      <th>9</th>\n",
       "      <td>2018-01-01 00:51:59</td>\n",
       "      <td>2278968</td>\n",
       "      <td>297</td>\n",
       "      <td>1</td>\n",
       "      <td>43.53</td>\n",
       "    </tr>\n",
       "  </tbody>\n",
       "</table>\n",
       "</div>"
      ],
      "text/plain": [
       "                  time  transactID  itemID  order  salesPrice\n",
       "0  2018-01-01 00:01:56     2278968     450      1       17.42\n",
       "1  2018-01-01 00:01:56     2278968      83      1        5.19\n",
       "2  2018-01-01 00:07:11     2255797    7851      2       20.47\n",
       "3  2018-01-01 00:09:24     2278968     450      1       17.42\n",
       "4  2018-01-01 00:09:24     2278968      83      1        5.19\n",
       "5  2018-01-01 00:39:26     2257125    9375      1       31.02\n",
       "6  2018-01-01 00:51:59     2278968     450      1       17.42\n",
       "7  2018-01-01 00:51:59     2278968      83      1        5.19\n",
       "8  2018-01-01 00:51:59     2278968      19      1       77.64\n",
       "9  2018-01-01 00:51:59     2278968     297      1       43.53"
      ]
     },
     "execution_count": 27,
     "metadata": {},
     "output_type": "execute_result"
    }
   ],
   "source": [
    "orders.head(10)"
   ]
  },
  {
   "cell_type": "markdown",
   "metadata": {},
   "source": [
    "# PROCESSING"
   ]
  },
  {
   "cell_type": "markdown",
   "metadata": {},
   "source": [
    "### MERGE INFOS AND ITEMS"
   ]
  },
  {
   "cell_type": "code",
   "execution_count": 9,
   "metadata": {},
   "outputs": [
    {
     "name": "stdout",
     "output_type": "stream",
     "text": [
      "(10463, 3)\n",
      "(10463, 8)\n",
      "(10463, 10)\n"
     ]
    }
   ],
   "source": [
    "##### MERGER\n",
    "\n",
    "print(infos.shape)\n",
    "print(items.shape)\n",
    "items = pd.merge(infos, items, on = 'itemID', how = 'left')\n",
    "print(items.shape)\n",
    "del infos"
   ]
  },
  {
   "cell_type": "markdown",
   "metadata": {},
   "source": [
    "### CONVERT FEATURE TYPES"
   ]
  },
  {
   "cell_type": "code",
   "execution_count": 10,
   "metadata": {},
   "outputs": [
    {
     "name": "stdout",
     "output_type": "stream",
     "text": [
      "--------------------------------------------------\n",
      "itemID                      int64\n",
      "simulationPrice           float64\n",
      "promotion                  object\n",
      "brand                       int64\n",
      "manufacturer                int64\n",
      "customerRating            float64\n",
      "category1                   int64\n",
      "category2                   int64\n",
      "category3                   int64\n",
      "recommendedRetailPrice    float64\n",
      "dtype: object\n",
      "--------------------------------------------------\n",
      "time           object\n",
      "transactID      int64\n",
      "itemID          int64\n",
      "order           int64\n",
      "salesPrice    float64\n",
      "dtype: object\n",
      "--------------------------------------------------\n"
     ]
    }
   ],
   "source": [
    "print('-' * 50)\n",
    "print(items.dtypes)\n",
    "print('-' * 50)\n",
    "print(orders.dtypes)\n",
    "print('-' * 50)"
   ]
  },
  {
   "cell_type": "code",
   "execution_count": 11,
   "metadata": {},
   "outputs": [],
   "source": [
    "# items\n",
    "for var in ['itemID', 'brand', 'manufacturer', 'category1', 'category2', 'category3']:\n",
    "    items[var] = items[var].astype('str').astype('object') \n",
    "    \n",
    "# orders\n",
    "for var in ['transactID', 'itemID']:\n",
    "    orders[var] = orders[var].astype('str').astype('object') \n",
    "    \n",
    "# dates\n",
    "orders['time'] = pd.to_datetime(orders['time'].astype('str'), infer_datetime_format = True)"
   ]
  },
  {
   "cell_type": "markdown",
   "metadata": {},
   "source": [
    "### CHECK FEATURES"
   ]
  },
  {
   "cell_type": "code",
   "execution_count": 13,
   "metadata": {},
   "outputs": [
    {
     "name": "stdout",
     "output_type": "stream",
     "text": [
      "Found 7 categorical features.\n",
      "\n",
      "------------------------------\n",
      "itemID: 10463 unique values\n",
      "------------------------------\n",
      "itemID\n",
      "1       0.000096\n",
      "6990    0.000096\n",
      "6972    0.000096\n",
      "Name: proportion, dtype: float64\n",
      "------------------------------\n",
      "\n",
      "------------------------------\n",
      "promotion: 85 unique values\n",
      "------------------------------\n",
      "promotion\n",
      "NaN           0.823855\n",
      "2018-07-04    0.016152\n",
      "2018-07-06    0.013763\n",
      "Name: proportion, dtype: float64\n",
      "------------------------------\n",
      "\n",
      "------------------------------\n",
      "brand: 275 unique values\n",
      "------------------------------\n",
      "brand\n",
      "0      0.500048\n",
      "101    0.023129\n",
      "82     0.018924\n",
      "Name: proportion, dtype: float64\n",
      "------------------------------\n",
      "\n",
      "------------------------------\n",
      "manufacturer: 253 unique values\n",
      "------------------------------\n",
      "manufacturer\n",
      "86     0.045972\n",
      "159    0.042818\n",
      "164    0.033260\n",
      "Name: proportion, dtype: float64\n",
      "------------------------------\n",
      "\n",
      "------------------------------\n",
      "category1: 8 unique values\n",
      "------------------------------\n",
      "category1\n",
      "2    0.224410\n",
      "1    0.174233\n",
      "8    0.165727\n",
      "Name: proportion, dtype: float64\n",
      "------------------------------\n",
      "\n",
      "------------------------------\n",
      "category2: 52 unique values\n",
      "------------------------------\n",
      "category2\n",
      "44    0.128835\n",
      "8     0.106948\n",
      "32    0.103699\n",
      "Name: proportion, dtype: float64\n",
      "------------------------------\n",
      "\n",
      "------------------------------\n",
      "category3: 8 unique values\n",
      "------------------------------\n",
      "category3\n",
      "2    0.229380\n",
      "1    0.174233\n",
      "8    0.165822\n",
      "Name: proportion, dtype: float64\n",
      "------------------------------\n",
      "\n"
     ]
    }
   ],
   "source": [
    "print_factor_levels(items, top = 3)"
   ]
  },
  {
   "cell_type": "code",
   "execution_count": 14,
   "metadata": {},
   "outputs": [
    {
     "name": "stdout",
     "output_type": "stream",
     "text": [
      "Found 2 categorical features.\n",
      "\n",
      "------------------------------\n",
      "transactID: 2076066 unique values\n",
      "------------------------------\n",
      "transactID\n",
      "2280569    0.000088\n",
      "2258169    0.000085\n",
      "2280300    0.000080\n",
      "Name: proportion, dtype: float64\n",
      "------------------------------\n",
      "\n",
      "------------------------------\n",
      "itemID: 9840 unique values\n",
      "------------------------------\n",
      "itemID\n",
      "5035    0.004112\n",
      "5117    0.003695\n",
      "7789    0.003398\n",
      "Name: proportion, dtype: float64\n",
      "------------------------------\n",
      "\n"
     ]
    }
   ],
   "source": [
    "print_factor_levels(orders, top = 3)"
   ]
  },
  {
   "cell_type": "code",
   "execution_count": 15,
   "metadata": {},
   "outputs": [
    {
     "name": "stdout",
     "output_type": "stream",
     "text": [
      "No constant features found.\n"
     ]
    }
   ],
   "source": [
    "find_constant_features(items)"
   ]
  },
  {
   "cell_type": "code",
   "execution_count": 16,
   "metadata": {},
   "outputs": [
    {
     "name": "stdout",
     "output_type": "stream",
     "text": [
      "No constant features found.\n"
     ]
    }
   ],
   "source": [
    "find_constant_features(orders)"
   ]
  },
  {
   "cell_type": "markdown",
   "metadata": {},
   "source": [
    "### MISSING VALUES"
   ]
  },
  {
   "cell_type": "code",
   "execution_count": 17,
   "metadata": {},
   "outputs": [],
   "source": [
    "# change zeros to NA where relvant\n",
    "items.loc[items['brand']          == '0', 'brand']        = np.nan\n",
    "items.loc[items['customerRating'] == 0, 'customerRating'] = np.nan"
   ]
  },
  {
   "cell_type": "code",
   "execution_count": 18,
   "metadata": {},
   "outputs": [
    {
     "name": "stdout",
     "output_type": "stream",
     "text": [
      "Found 3 features with missing values.\n"
     ]
    },
    {
     "data": {
      "text/html": [
       "<div>\n",
       "<style scoped>\n",
       "    .dataframe tbody tr th:only-of-type {\n",
       "        vertical-align: middle;\n",
       "    }\n",
       "\n",
       "    .dataframe tbody tr th {\n",
       "        vertical-align: top;\n",
       "    }\n",
       "\n",
       "    .dataframe thead th {\n",
       "        text-align: right;\n",
       "    }\n",
       "</style>\n",
       "<table border=\"1\" class=\"dataframe\">\n",
       "  <thead>\n",
       "    <tr style=\"text-align: right;\">\n",
       "      <th></th>\n",
       "      <th>Total</th>\n",
       "      <th>Percent</th>\n",
       "    </tr>\n",
       "  </thead>\n",
       "  <tbody>\n",
       "    <tr>\n",
       "      <th>promotion</th>\n",
       "      <td>8620</td>\n",
       "      <td>0.823855</td>\n",
       "    </tr>\n",
       "    <tr>\n",
       "      <th>customerRating</th>\n",
       "      <td>7117</td>\n",
       "      <td>0.680206</td>\n",
       "    </tr>\n",
       "    <tr>\n",
       "      <th>brand</th>\n",
       "      <td>5232</td>\n",
       "      <td>0.500048</td>\n",
       "    </tr>\n",
       "  </tbody>\n",
       "</table>\n",
       "</div>"
      ],
      "text/plain": [
       "                Total   Percent\n",
       "promotion        8620  0.823855\n",
       "customerRating   7117  0.680206\n",
       "brand            5232  0.500048"
      ]
     },
     "execution_count": 18,
     "metadata": {},
     "output_type": "execute_result"
    }
   ],
   "source": [
    "print_missings(items)"
   ]
  },
  {
   "cell_type": "code",
   "execution_count": 19,
   "metadata": {},
   "outputs": [
    {
     "name": "stdout",
     "output_type": "stream",
     "text": [
      "No missing values found.\n"
     ]
    }
   ],
   "source": [
    "print_missings(orders)"
   ]
  },
  {
   "cell_type": "markdown",
   "metadata": {},
   "source": [
    "### UNFOLD PROMOTIONS"
   ]
  },
  {
   "cell_type": "code",
   "execution_count": 20,
   "metadata": {},
   "outputs": [
    {
     "name": "stdout",
     "output_type": "stream",
     "text": [
      "Added 3 split-based features.\n"
     ]
    },
    {
     "data": {
      "text/html": [
       "<div>\n",
       "<style scoped>\n",
       "    .dataframe tbody tr th:only-of-type {\n",
       "        vertical-align: middle;\n",
       "    }\n",
       "\n",
       "    .dataframe tbody tr th {\n",
       "        vertical-align: top;\n",
       "    }\n",
       "\n",
       "    .dataframe thead th {\n",
       "        text-align: right;\n",
       "    }\n",
       "</style>\n",
       "<table border=\"1\" class=\"dataframe\">\n",
       "  <thead>\n",
       "    <tr style=\"text-align: right;\">\n",
       "      <th></th>\n",
       "      <th>itemID</th>\n",
       "      <th>simulationPrice</th>\n",
       "      <th>brand</th>\n",
       "      <th>manufacturer</th>\n",
       "      <th>customerRating</th>\n",
       "      <th>category1</th>\n",
       "      <th>category2</th>\n",
       "      <th>category3</th>\n",
       "      <th>recommendedRetailPrice</th>\n",
       "      <th>promotion_0</th>\n",
       "      <th>promotion_1</th>\n",
       "      <th>promotion_2</th>\n",
       "    </tr>\n",
       "  </thead>\n",
       "  <tbody>\n",
       "    <tr>\n",
       "      <th>0</th>\n",
       "      <td>1</td>\n",
       "      <td>3.43</td>\n",
       "      <td>NaN</td>\n",
       "      <td>1</td>\n",
       "      <td>4.38</td>\n",
       "      <td>1</td>\n",
       "      <td>1</td>\n",
       "      <td>1</td>\n",
       "      <td>8.84</td>\n",
       "      <td>NaN</td>\n",
       "      <td>NaN</td>\n",
       "      <td>NaN</td>\n",
       "    </tr>\n",
       "    <tr>\n",
       "      <th>1</th>\n",
       "      <td>2</td>\n",
       "      <td>9.15</td>\n",
       "      <td>NaN</td>\n",
       "      <td>2</td>\n",
       "      <td>3.00</td>\n",
       "      <td>1</td>\n",
       "      <td>2</td>\n",
       "      <td>1</td>\n",
       "      <td>16.92</td>\n",
       "      <td>NaN</td>\n",
       "      <td>NaN</td>\n",
       "      <td>NaN</td>\n",
       "    </tr>\n",
       "    <tr>\n",
       "      <th>2</th>\n",
       "      <td>3</td>\n",
       "      <td>14.04</td>\n",
       "      <td>NaN</td>\n",
       "      <td>3</td>\n",
       "      <td>5.00</td>\n",
       "      <td>1</td>\n",
       "      <td>3</td>\n",
       "      <td>1</td>\n",
       "      <td>15.89</td>\n",
       "      <td>NaN</td>\n",
       "      <td>NaN</td>\n",
       "      <td>NaN</td>\n",
       "    </tr>\n",
       "    <tr>\n",
       "      <th>3</th>\n",
       "      <td>4</td>\n",
       "      <td>14.10</td>\n",
       "      <td>NaN</td>\n",
       "      <td>2</td>\n",
       "      <td>4.44</td>\n",
       "      <td>1</td>\n",
       "      <td>2</td>\n",
       "      <td>1</td>\n",
       "      <td>40.17</td>\n",
       "      <td>NaN</td>\n",
       "      <td>NaN</td>\n",
       "      <td>NaN</td>\n",
       "    </tr>\n",
       "    <tr>\n",
       "      <th>4</th>\n",
       "      <td>5</td>\n",
       "      <td>7.48</td>\n",
       "      <td>NaN</td>\n",
       "      <td>2</td>\n",
       "      <td>2.33</td>\n",
       "      <td>1</td>\n",
       "      <td>1</td>\n",
       "      <td>1</td>\n",
       "      <td>17.04</td>\n",
       "      <td>NaN</td>\n",
       "      <td>NaN</td>\n",
       "      <td>NaN</td>\n",
       "    </tr>\n",
       "  </tbody>\n",
       "</table>\n",
       "</div>"
      ],
      "text/plain": [
       "  itemID  simulationPrice brand manufacturer  customerRating category1  \\\n",
       "0      1             3.43   NaN            1            4.38         1   \n",
       "1      2             9.15   NaN            2            3.00         1   \n",
       "2      3            14.04   NaN            3            5.00         1   \n",
       "3      4            14.10   NaN            2            4.44         1   \n",
       "4      5             7.48   NaN            2            2.33         1   \n",
       "\n",
       "  category2 category3  recommendedRetailPrice promotion_0 promotion_1  \\\n",
       "0         1         1                    8.84         NaN         NaN   \n",
       "1         2         1                   16.92         NaN         NaN   \n",
       "2         3         1                   15.89         NaN         NaN   \n",
       "3         2         1                   40.17         NaN         NaN   \n",
       "4         1         1                   17.04         NaN         NaN   \n",
       "\n",
       "  promotion_2  \n",
       "0         NaN  \n",
       "1         NaN  \n",
       "2         NaN  \n",
       "3         NaN  \n",
       "4         NaN  "
      ]
     },
     "execution_count": 20,
     "metadata": {},
     "output_type": "execute_result"
    }
   ],
   "source": [
    "# split promotion feature\n",
    "items = split_nested_features(items, split_vars = 'promotion', sep = ',')\n",
    "items.head()"
   ]
  },
  {
   "cell_type": "code",
   "execution_count": 21,
   "metadata": {},
   "outputs": [
    {
     "data": {
      "text/plain": [
       "itemID                            object\n",
       "simulationPrice                  float64\n",
       "brand                             object\n",
       "manufacturer                      object\n",
       "customerRating                   float64\n",
       "category1                         object\n",
       "category2                         object\n",
       "category3                         object\n",
       "recommendedRetailPrice           float64\n",
       "promotion_0               datetime64[ns]\n",
       "promotion_1               datetime64[ns]\n",
       "promotion_2               datetime64[ns]\n",
       "dtype: object"
      ]
     },
     "execution_count": 21,
     "metadata": {},
     "output_type": "execute_result"
    }
   ],
   "source": [
    "# convert date types\n",
    "promotion_vars = items.filter(like = 'promotion_').columns\n",
    "for var in promotion_vars:\n",
    "    items[var] = pd.to_datetime(items[var], infer_datetime_format = True)\n",
    "    \n",
    "items.dtypes"
   ]
  },
  {
   "cell_type": "markdown",
   "metadata": {},
   "source": [
    "# EXPORT"
   ]
  },
  {
   "cell_type": "code",
   "execution_count": 23,
   "metadata": {},
   "outputs": [
    {
     "name": "stdout",
     "output_type": "stream",
     "text": [
      "Saved as ../data/prepared/orders_v1.csv\n",
      "Saved as ../data/prepared/items_v1.csv\n",
      "(2181955, 5)\n",
      "(10463, 12)\n"
     ]
    }
   ],
   "source": [
    "# save data frame\n",
    "# save_csv_version() automatically adds version number to prevent overwriting\n",
    "save_csv_version('../data/prepared/orders.csv', orders, index = False, compression = 'gzip')\n",
    "save_csv_version('../data/prepared/items.csv',  items,  index = False, compression = 'gzip')\n",
    "print(orders.shape)\n",
    "print(items.shape)"
   ]
  },
  {
   "cell_type": "code",
   "execution_count": null,
   "metadata": {},
   "outputs": [],
   "source": []
  }
 ],
 "metadata": {
  "kernelspec": {
   "display_name": "Python 3 (ipykernel)",
   "language": "python",
   "name": "python3"
  },
  "language_info": {
   "codemirror_mode": {
    "name": "ipython",
    "version": 3
   },
   "file_extension": ".py",
   "mimetype": "text/x-python",
   "name": "python",
   "nbconvert_exporter": "python",
   "pygments_lexer": "ipython3",
   "version": "3.11.5"
  }
 },
 "nbformat": 4,
 "nbformat_minor": 4
}
